{
  "nbformat": 4,
  "nbformat_minor": 0,
  "metadata": {
    "colab": {
      "name": "Final_Project_CST383.ipynb",
      "provenance": [],
      "collapsed_sections": []
    },
    "kernelspec": {
      "name": "python3",
      "display_name": "Python 3"
    }
  },
  "cells": [
    {
      "cell_type": "markdown",
      "metadata": {
        "id": "P5XzSLVg99Cm"
      },
      "source": [
        "# NBA WIN PREDICTOR\r\n",
        "\r\n",
        "# CST 383 - FINAL PROJECT\r\n",
        " \r\n",
        "\r\n",
        "\r\n",
        "**BY: Deen Altawil & Jordan Cruz**\r\n",
        "\r\n",
        "\r\n",
        "#About:\r\n",
        "In this project we aim to predict the outcome of NBA games, and determine any possible factors that could affect a teams outcome. The data is collected from the 2018-2019 NBA season and was provided by sports-reference.com.\r\n",
        "\r\n",
        "#Goals:\r\n",
        "*   Observe the outcome of winning based on whether a team won its' previous game\r\n",
        "*   Determine whether offensive team rating or defensive team rating has a more positive affect on team outcomes\r\n",
        "*   Use various models to determine which is better at predicting the outcome of a NBA game, i.e. predict the winners and losers\r\n",
        "\r\n",
        "#Dataset:\r\n",
        "\r\n",
        "**Name:** \r\n",
        "*   2018-2019 NBA Team Wins Per Game Stats & Misc team statistics\r\n",
        "\r\n",
        "**Owner:**\r\n",
        "\r\n",
        "sports-reference.com\r\n",
        "\r\n",
        "**Source Link:**\r\n",
        "\r\n",
        "[2018-2019 Season](https://www.basketball-reference.com/leagues/NBA_2019.html)\r\n",
        "\r\n",
        "[2018-2019 Per Game Stats](https://www.basketball-reference.com/leagues/NBA_2019_games.html)\r\n",
        "\r\n",
        "**Video link**\r\n",
        "\r\n",
        "[Final Project Video](https://youtu.be/yWvCwfWzItg)\r\n",
        "\r\n",
        "**Aquired:**\r\n",
        "\r\n",
        "February 10, 2021 from [basketball-reference.com](https://www.basketball-reference.com/) "
      ]
    },
    {
      "cell_type": "markdown",
      "metadata": {
        "id": "_FpE8gRQhtQJ"
      },
      "source": [
        "# DATA  EXPLORATION:\r\n",
        "\r\n"
      ]
    },
    {
      "cell_type": "code",
      "metadata": {
        "id": "MfD0rII04v8R"
      },
      "source": [
        "# Required packages\r\n",
        "import numpy as np\r\n",
        "import pandas as pd\r\n",
        "import seaborn as sns\r\n",
        "import io\r\n",
        "import matplotlib.pyplot as plt\r\n",
        "from matplotlib import rcParams\r\n",
        "from collections import defaultdict\r\n",
        "from scipy.stats import zscore\r\n",
        "from sklearn.model_selection import train_test_split, cross_val_score\r\n",
        "from sklearn.preprocessing import StandardScaler\r\n",
        "from sklearn.neighbors import KNeighborsRegressor, KNeighborsClassifier\r\n",
        "from sklearn.linear_model import LinearRegression\r\n",
        "from sklearn.tree import DecisionTreeClassifier\r\n",
        "\r\n",
        "sns.set()"
      ],
      "execution_count": null,
      "outputs": []
    },
    {
      "cell_type": "markdown",
      "metadata": {
        "id": "f0F_Ig8liRaK"
      },
      "source": [
        "Upload dataset CSV files from drive."
      ]
    },
    {
      "cell_type": "code",
      "metadata": {
        "colab": {
          "resources": {
            "http://localhost:8080/nbextensions/google.colab/files.js": {
              "data": "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",
              "ok": true,
              "headers": [
                [
                  "content-type",
                  "application/javascript"
                ]
              ],
              "status": 200,
              "status_text": ""
            }
          },
          "base_uri": "https://localhost:8080/",
          "height": 106
        },
        "id": "zXg5LZ5VS5E6",
        "outputId": "99ab8154-cf06-4ae8-adb7-952a19946cd7"
      },
      "source": [
        "# Import files\r\n",
        "from google.colab import files\r\n",
        "uploaded = files.upload()"
      ],
      "execution_count": null,
      "outputs": [
        {
          "output_type": "display_data",
          "data": {
            "text/html": [
              "\n",
              "     <input type=\"file\" id=\"files-2a11efb0-2104-4d15-8e12-1488ebbc8bc2\" name=\"files[]\" multiple disabled\n",
              "        style=\"border:none\" />\n",
              "     <output id=\"result-2a11efb0-2104-4d15-8e12-1488ebbc8bc2\">\n",
              "      Upload widget is only available when the cell has been executed in the\n",
              "      current browser session. Please rerun this cell to enable.\n",
              "      </output>\n",
              "      <script src=\"/nbextensions/google.colab/files.js\"></script> "
            ],
            "text/plain": [
              "<IPython.core.display.HTML object>"
            ]
          },
          "metadata": {
            "tags": []
          }
        },
        {
          "output_type": "stream",
          "text": [
            "Saving NBA_2018_2019_Misc.csv to NBA_2018_2019_Misc (3).csv\n",
            "Saving NBA_2018_2019_WinsLosses.csv to NBA_2018_2019_WinsLosses (3).csv\n"
          ],
          "name": "stdout"
        }
      ]
    },
    {
      "cell_type": "markdown",
      "metadata": {
        "id": "mBzKBUmzTC7a"
      },
      "source": [
        "**INITIAL EXPLORATION:**"
      ]
    },
    {
      "cell_type": "code",
      "metadata": {
        "id": "fGldgUMPSqBF"
      },
      "source": [
        "# Read data\r\n",
        "df_win_lose = pd.read_csv(io.BytesIO(uploaded['NBA_2018_2019_WinsLosses.csv']))\r\n",
        "df_misc = pd.read_csv(io.BytesIO(uploaded['NBA_2018_2019_Misc.csv']))"
      ],
      "execution_count": null,
      "outputs": []
    },
    {
      "cell_type": "code",
      "metadata": {
        "colab": {
          "base_uri": "https://localhost:8080/",
          "height": 419
        },
        "id": "U1UXv7bmqz_Y",
        "outputId": "d14ab205-9a3c-4624-9252-d6d695aa5837"
      },
      "source": [
        "# Display contents of first DataFrames\r\n",
        "df_win_lose"
      ],
      "execution_count": null,
      "outputs": [
        {
          "output_type": "execute_result",
          "data": {
            "text/html": [
              "<div>\n",
              "<style scoped>\n",
              "    .dataframe tbody tr th:only-of-type {\n",
              "        vertical-align: middle;\n",
              "    }\n",
              "\n",
              "    .dataframe tbody tr th {\n",
              "        vertical-align: top;\n",
              "    }\n",
              "\n",
              "    .dataframe thead th {\n",
              "        text-align: right;\n",
              "    }\n",
              "</style>\n",
              "<table border=\"1\" class=\"dataframe\">\n",
              "  <thead>\n",
              "    <tr style=\"text-align: right;\">\n",
              "      <th></th>\n",
              "      <th>Date</th>\n",
              "      <th>Visitor</th>\n",
              "      <th>V_PTS</th>\n",
              "      <th>Home</th>\n",
              "      <th>H_PTS</th>\n",
              "    </tr>\n",
              "  </thead>\n",
              "  <tbody>\n",
              "    <tr>\n",
              "      <th>0</th>\n",
              "      <td>Tue Oct 16 2018</td>\n",
              "      <td>Philadelphia 76ers</td>\n",
              "      <td>87</td>\n",
              "      <td>Boston Celtics</td>\n",
              "      <td>105</td>\n",
              "    </tr>\n",
              "    <tr>\n",
              "      <th>1</th>\n",
              "      <td>Tue Oct 16 2018</td>\n",
              "      <td>Oklahoma City Thunder</td>\n",
              "      <td>100</td>\n",
              "      <td>Golden State Warriors</td>\n",
              "      <td>108</td>\n",
              "    </tr>\n",
              "    <tr>\n",
              "      <th>2</th>\n",
              "      <td>Wed Oct 17 2018</td>\n",
              "      <td>Milwaukee Bucks</td>\n",
              "      <td>113</td>\n",
              "      <td>Charlotte Hornets</td>\n",
              "      <td>112</td>\n",
              "    </tr>\n",
              "    <tr>\n",
              "      <th>3</th>\n",
              "      <td>Wed Oct 17 2018</td>\n",
              "      <td>Brooklyn Nets</td>\n",
              "      <td>100</td>\n",
              "      <td>Detroit Pistons</td>\n",
              "      <td>103</td>\n",
              "    </tr>\n",
              "    <tr>\n",
              "      <th>4</th>\n",
              "      <td>Wed Oct 17 2018</td>\n",
              "      <td>Memphis Grizzlies</td>\n",
              "      <td>83</td>\n",
              "      <td>Indiana Pacers</td>\n",
              "      <td>111</td>\n",
              "    </tr>\n",
              "    <tr>\n",
              "      <th>...</th>\n",
              "      <td>...</td>\n",
              "      <td>...</td>\n",
              "      <td>...</td>\n",
              "      <td>...</td>\n",
              "      <td>...</td>\n",
              "    </tr>\n",
              "    <tr>\n",
              "      <th>1307</th>\n",
              "      <td>Sun Jun 2 2019</td>\n",
              "      <td>Golden State Warriors</td>\n",
              "      <td>109</td>\n",
              "      <td>Toronto Raptors</td>\n",
              "      <td>104</td>\n",
              "    </tr>\n",
              "    <tr>\n",
              "      <th>1308</th>\n",
              "      <td>Wed Jun 5 2019</td>\n",
              "      <td>Toronto Raptors</td>\n",
              "      <td>123</td>\n",
              "      <td>Golden State Warriors</td>\n",
              "      <td>109</td>\n",
              "    </tr>\n",
              "    <tr>\n",
              "      <th>1309</th>\n",
              "      <td>Fri Jun 7 2019</td>\n",
              "      <td>Toronto Raptors</td>\n",
              "      <td>105</td>\n",
              "      <td>Golden State Warriors</td>\n",
              "      <td>92</td>\n",
              "    </tr>\n",
              "    <tr>\n",
              "      <th>1310</th>\n",
              "      <td>Mon Jun 10 2019</td>\n",
              "      <td>Golden State Warriors</td>\n",
              "      <td>106</td>\n",
              "      <td>Toronto Raptors</td>\n",
              "      <td>105</td>\n",
              "    </tr>\n",
              "    <tr>\n",
              "      <th>1311</th>\n",
              "      <td>Thu Jun 13 2019</td>\n",
              "      <td>Toronto Raptors</td>\n",
              "      <td>114</td>\n",
              "      <td>Golden State Warriors</td>\n",
              "      <td>110</td>\n",
              "    </tr>\n",
              "  </tbody>\n",
              "</table>\n",
              "<p>1312 rows × 5 columns</p>\n",
              "</div>"
            ],
            "text/plain": [
              "                 Date                Visitor  ...                   Home H_PTS\n",
              "0     Tue Oct 16 2018     Philadelphia 76ers  ...         Boston Celtics   105\n",
              "1     Tue Oct 16 2018  Oklahoma City Thunder  ...  Golden State Warriors   108\n",
              "2     Wed Oct 17 2018        Milwaukee Bucks  ...      Charlotte Hornets   112\n",
              "3     Wed Oct 17 2018          Brooklyn Nets  ...        Detroit Pistons   103\n",
              "4     Wed Oct 17 2018      Memphis Grizzlies  ...         Indiana Pacers   111\n",
              "...               ...                    ...  ...                    ...   ...\n",
              "1307   Sun Jun 2 2019  Golden State Warriors  ...        Toronto Raptors   104\n",
              "1308   Wed Jun 5 2019        Toronto Raptors  ...  Golden State Warriors   109\n",
              "1309   Fri Jun 7 2019        Toronto Raptors  ...  Golden State Warriors    92\n",
              "1310  Mon Jun 10 2019  Golden State Warriors  ...        Toronto Raptors   105\n",
              "1311  Thu Jun 13 2019        Toronto Raptors  ...  Golden State Warriors   110\n",
              "\n",
              "[1312 rows x 5 columns]"
            ]
          },
          "metadata": {
            "tags": []
          },
          "execution_count": 5
        }
      ]
    },
    {
      "cell_type": "markdown",
      "metadata": {
        "id": "_Wob5QBptWZc"
      },
      "source": [
        "***DataFrame Facts:***\r\n",
        "\r\n",
        "\r\n",
        "*   Rows - 1312\r\n",
        "*   Columns - 5\r\n",
        "*   Each row is a date on which NBA team played on another\r\n",
        "\r\n"
      ]
    },
    {
      "cell_type": "code",
      "metadata": {
        "colab": {
          "base_uri": "https://localhost:8080/",
          "height": 1000
        },
        "id": "oDKHZMJLqzoZ",
        "outputId": "49407bc4-17c8-4118-c5df-f3edf21e9977"
      },
      "source": [
        "# Display contents of second DataFrame\r\n",
        "df_misc"
      ],
      "execution_count": null,
      "outputs": [
        {
          "output_type": "execute_result",
          "data": {
            "text/html": [
              "<div>\n",
              "<style scoped>\n",
              "    .dataframe tbody tr th:only-of-type {\n",
              "        vertical-align: middle;\n",
              "    }\n",
              "\n",
              "    .dataframe tbody tr th {\n",
              "        vertical-align: top;\n",
              "    }\n",
              "\n",
              "    .dataframe thead th {\n",
              "        text-align: right;\n",
              "    }\n",
              "</style>\n",
              "<table border=\"1\" class=\"dataframe\">\n",
              "  <thead>\n",
              "    <tr style=\"text-align: right;\">\n",
              "      <th></th>\n",
              "      <th>Rk</th>\n",
              "      <th>Team</th>\n",
              "      <th>Age</th>\n",
              "      <th>W</th>\n",
              "      <th>L</th>\n",
              "      <th>PW</th>\n",
              "      <th>PL</th>\n",
              "      <th>MOV</th>\n",
              "      <th>SOS</th>\n",
              "      <th>SRS</th>\n",
              "      <th>ORtg</th>\n",
              "      <th>DRtg</th>\n",
              "      <th>NRtg</th>\n",
              "      <th>Pace</th>\n",
              "      <th>FTr</th>\n",
              "      <th>3PAr</th>\n",
              "      <th>TS%</th>\n",
              "      <th>eFG%</th>\n",
              "      <th>TOV%</th>\n",
              "      <th>ORB%</th>\n",
              "      <th>FT/FGA</th>\n",
              "      <th>eFG%.1</th>\n",
              "      <th>TOV%.1</th>\n",
              "      <th>DRB%</th>\n",
              "      <th>FT/FGA.1</th>\n",
              "      <th>Arena</th>\n",
              "      <th>Attend.</th>\n",
              "      <th>Attend./G</th>\n",
              "    </tr>\n",
              "  </thead>\n",
              "  <tbody>\n",
              "    <tr>\n",
              "      <th>0</th>\n",
              "      <td>1.0</td>\n",
              "      <td>Milwaukee Bucks*</td>\n",
              "      <td>26.9</td>\n",
              "      <td>60.0</td>\n",
              "      <td>22.0</td>\n",
              "      <td>61</td>\n",
              "      <td>21</td>\n",
              "      <td>8.87</td>\n",
              "      <td>-0.82</td>\n",
              "      <td>8.04</td>\n",
              "      <td>113.8</td>\n",
              "      <td>105.2</td>\n",
              "      <td>8.6</td>\n",
              "      <td>103.3</td>\n",
              "      <td>0.255</td>\n",
              "      <td>0.419</td>\n",
              "      <td>0.583</td>\n",
              "      <td>0.550</td>\n",
              "      <td>12.0</td>\n",
              "      <td>20.8</td>\n",
              "      <td>0.197</td>\n",
              "      <td>0.503</td>\n",
              "      <td>11.5</td>\n",
              "      <td>80.3</td>\n",
              "      <td>0.162</td>\n",
              "      <td>Fiserv Forum</td>\n",
              "      <td>721692</td>\n",
              "      <td>17602</td>\n",
              "    </tr>\n",
              "    <tr>\n",
              "      <th>1</th>\n",
              "      <td>2.0</td>\n",
              "      <td>Golden State Warriors*</td>\n",
              "      <td>28.4</td>\n",
              "      <td>57.0</td>\n",
              "      <td>25.0</td>\n",
              "      <td>56</td>\n",
              "      <td>26</td>\n",
              "      <td>6.46</td>\n",
              "      <td>-0.04</td>\n",
              "      <td>6.42</td>\n",
              "      <td>115.9</td>\n",
              "      <td>109.5</td>\n",
              "      <td>6.4</td>\n",
              "      <td>100.9</td>\n",
              "      <td>0.227</td>\n",
              "      <td>0.384</td>\n",
              "      <td>0.596</td>\n",
              "      <td>0.565</td>\n",
              "      <td>12.6</td>\n",
              "      <td>22.5</td>\n",
              "      <td>0.182</td>\n",
              "      <td>0.508</td>\n",
              "      <td>11.7</td>\n",
              "      <td>77.1</td>\n",
              "      <td>0.205</td>\n",
              "      <td>Oracle Arena</td>\n",
              "      <td>803436</td>\n",
              "      <td>19596</td>\n",
              "    </tr>\n",
              "    <tr>\n",
              "      <th>2</th>\n",
              "      <td>3.0</td>\n",
              "      <td>Toronto Raptors*</td>\n",
              "      <td>27.3</td>\n",
              "      <td>58.0</td>\n",
              "      <td>24.0</td>\n",
              "      <td>56</td>\n",
              "      <td>26</td>\n",
              "      <td>6.09</td>\n",
              "      <td>-0.60</td>\n",
              "      <td>5.49</td>\n",
              "      <td>113.1</td>\n",
              "      <td>107.1</td>\n",
              "      <td>6.0</td>\n",
              "      <td>100.2</td>\n",
              "      <td>0.247</td>\n",
              "      <td>0.379</td>\n",
              "      <td>0.579</td>\n",
              "      <td>0.543</td>\n",
              "      <td>12.4</td>\n",
              "      <td>21.9</td>\n",
              "      <td>0.198</td>\n",
              "      <td>0.509</td>\n",
              "      <td>13.1</td>\n",
              "      <td>77.1</td>\n",
              "      <td>0.190</td>\n",
              "      <td>Scotiabank Arena</td>\n",
              "      <td>812822</td>\n",
              "      <td>19825</td>\n",
              "    </tr>\n",
              "    <tr>\n",
              "      <th>3</th>\n",
              "      <td>4.0</td>\n",
              "      <td>Utah Jazz*</td>\n",
              "      <td>27.3</td>\n",
              "      <td>50.0</td>\n",
              "      <td>32.0</td>\n",
              "      <td>54</td>\n",
              "      <td>28</td>\n",
              "      <td>5.26</td>\n",
              "      <td>0.03</td>\n",
              "      <td>5.28</td>\n",
              "      <td>110.9</td>\n",
              "      <td>105.7</td>\n",
              "      <td>5.2</td>\n",
              "      <td>100.3</td>\n",
              "      <td>0.295</td>\n",
              "      <td>0.394</td>\n",
              "      <td>0.572</td>\n",
              "      <td>0.538</td>\n",
              "      <td>13.4</td>\n",
              "      <td>22.9</td>\n",
              "      <td>0.217</td>\n",
              "      <td>0.507</td>\n",
              "      <td>12.4</td>\n",
              "      <td>80.3</td>\n",
              "      <td>0.189</td>\n",
              "      <td>Vivint Smart Home Arena</td>\n",
              "      <td>750546</td>\n",
              "      <td>18306</td>\n",
              "    </tr>\n",
              "    <tr>\n",
              "      <th>4</th>\n",
              "      <td>5.0</td>\n",
              "      <td>Houston Rockets*</td>\n",
              "      <td>29.2</td>\n",
              "      <td>53.0</td>\n",
              "      <td>29.0</td>\n",
              "      <td>53</td>\n",
              "      <td>29</td>\n",
              "      <td>4.77</td>\n",
              "      <td>0.19</td>\n",
              "      <td>4.96</td>\n",
              "      <td>115.5</td>\n",
              "      <td>110.7</td>\n",
              "      <td>4.8</td>\n",
              "      <td>97.9</td>\n",
              "      <td>0.279</td>\n",
              "      <td>0.519</td>\n",
              "      <td>0.581</td>\n",
              "      <td>0.542</td>\n",
              "      <td>12.0</td>\n",
              "      <td>22.8</td>\n",
              "      <td>0.221</td>\n",
              "      <td>0.525</td>\n",
              "      <td>13.4</td>\n",
              "      <td>74.4</td>\n",
              "      <td>0.210</td>\n",
              "      <td>Toyota Center</td>\n",
              "      <td>740392</td>\n",
              "      <td>18058</td>\n",
              "    </tr>\n",
              "    <tr>\n",
              "      <th>5</th>\n",
              "      <td>6.0</td>\n",
              "      <td>Portland Trail Blazers*</td>\n",
              "      <td>26.2</td>\n",
              "      <td>53.0</td>\n",
              "      <td>29.0</td>\n",
              "      <td>51</td>\n",
              "      <td>31</td>\n",
              "      <td>4.20</td>\n",
              "      <td>0.24</td>\n",
              "      <td>4.43</td>\n",
              "      <td>114.7</td>\n",
              "      <td>110.5</td>\n",
              "      <td>4.2</td>\n",
              "      <td>99.1</td>\n",
              "      <td>0.258</td>\n",
              "      <td>0.339</td>\n",
              "      <td>0.568</td>\n",
              "      <td>0.528</td>\n",
              "      <td>12.1</td>\n",
              "      <td>26.6</td>\n",
              "      <td>0.210</td>\n",
              "      <td>0.516</td>\n",
              "      <td>11.0</td>\n",
              "      <td>77.9</td>\n",
              "      <td>0.195</td>\n",
              "      <td>Moda Center</td>\n",
              "      <td>799345</td>\n",
              "      <td>19496</td>\n",
              "    </tr>\n",
              "    <tr>\n",
              "      <th>6</th>\n",
              "      <td>7.0</td>\n",
              "      <td>Denver Nuggets*</td>\n",
              "      <td>24.9</td>\n",
              "      <td>54.0</td>\n",
              "      <td>28.0</td>\n",
              "      <td>51</td>\n",
              "      <td>31</td>\n",
              "      <td>3.95</td>\n",
              "      <td>0.24</td>\n",
              "      <td>4.19</td>\n",
              "      <td>113.0</td>\n",
              "      <td>108.9</td>\n",
              "      <td>4.1</td>\n",
              "      <td>97.7</td>\n",
              "      <td>0.232</td>\n",
              "      <td>0.348</td>\n",
              "      <td>0.558</td>\n",
              "      <td>0.527</td>\n",
              "      <td>11.9</td>\n",
              "      <td>26.6</td>\n",
              "      <td>0.175</td>\n",
              "      <td>0.521</td>\n",
              "      <td>12.3</td>\n",
              "      <td>78.0</td>\n",
              "      <td>0.194</td>\n",
              "      <td>Pepsi Center</td>\n",
              "      <td>756457</td>\n",
              "      <td>18450</td>\n",
              "    </tr>\n",
              "    <tr>\n",
              "      <th>7</th>\n",
              "      <td>8.0</td>\n",
              "      <td>Boston Celtics*</td>\n",
              "      <td>25.7</td>\n",
              "      <td>49.0</td>\n",
              "      <td>33.0</td>\n",
              "      <td>52</td>\n",
              "      <td>30</td>\n",
              "      <td>4.44</td>\n",
              "      <td>-0.54</td>\n",
              "      <td>3.90</td>\n",
              "      <td>112.2</td>\n",
              "      <td>107.8</td>\n",
              "      <td>4.4</td>\n",
              "      <td>99.6</td>\n",
              "      <td>0.215</td>\n",
              "      <td>0.381</td>\n",
              "      <td>0.567</td>\n",
              "      <td>0.534</td>\n",
              "      <td>11.5</td>\n",
              "      <td>21.6</td>\n",
              "      <td>0.173</td>\n",
              "      <td>0.514</td>\n",
              "      <td>13.4</td>\n",
              "      <td>77.0</td>\n",
              "      <td>0.198</td>\n",
              "      <td>TD Garden</td>\n",
              "      <td>763584</td>\n",
              "      <td>18624</td>\n",
              "    </tr>\n",
              "    <tr>\n",
              "      <th>8</th>\n",
              "      <td>9.0</td>\n",
              "      <td>Oklahoma City Thunder*</td>\n",
              "      <td>25.7</td>\n",
              "      <td>49.0</td>\n",
              "      <td>33.0</td>\n",
              "      <td>50</td>\n",
              "      <td>32</td>\n",
              "      <td>3.40</td>\n",
              "      <td>0.15</td>\n",
              "      <td>3.56</td>\n",
              "      <td>110.3</td>\n",
              "      <td>107.0</td>\n",
              "      <td>3.3</td>\n",
              "      <td>102.8</td>\n",
              "      <td>0.266</td>\n",
              "      <td>0.347</td>\n",
              "      <td>0.545</td>\n",
              "      <td>0.514</td>\n",
              "      <td>11.7</td>\n",
              "      <td>26.0</td>\n",
              "      <td>0.190</td>\n",
              "      <td>0.523</td>\n",
              "      <td>14.4</td>\n",
              "      <td>78.2</td>\n",
              "      <td>0.206</td>\n",
              "      <td>Chesapeake Energy Arena</td>\n",
              "      <td>746323</td>\n",
              "      <td>18203</td>\n",
              "    </tr>\n",
              "    <tr>\n",
              "      <th>9</th>\n",
              "      <td>10.0</td>\n",
              "      <td>Indiana Pacers*</td>\n",
              "      <td>27.0</td>\n",
              "      <td>48.0</td>\n",
              "      <td>34.0</td>\n",
              "      <td>50</td>\n",
              "      <td>32</td>\n",
              "      <td>3.33</td>\n",
              "      <td>-0.57</td>\n",
              "      <td>2.76</td>\n",
              "      <td>109.9</td>\n",
              "      <td>106.5</td>\n",
              "      <td>3.4</td>\n",
              "      <td>98.1</td>\n",
              "      <td>0.242</td>\n",
              "      <td>0.292</td>\n",
              "      <td>0.561</td>\n",
              "      <td>0.530</td>\n",
              "      <td>12.4</td>\n",
              "      <td>21.9</td>\n",
              "      <td>0.182</td>\n",
              "      <td>0.516</td>\n",
              "      <td>14.1</td>\n",
              "      <td>76.2</td>\n",
              "      <td>0.184</td>\n",
              "      <td>Bankers Life Fieldhouse</td>\n",
              "      <td>689310</td>\n",
              "      <td>16812</td>\n",
              "    </tr>\n",
              "    <tr>\n",
              "      <th>10</th>\n",
              "      <td>11.0</td>\n",
              "      <td>Philadelphia 76ers*</td>\n",
              "      <td>26.4</td>\n",
              "      <td>51.0</td>\n",
              "      <td>31.0</td>\n",
              "      <td>48</td>\n",
              "      <td>34</td>\n",
              "      <td>2.70</td>\n",
              "      <td>-0.44</td>\n",
              "      <td>2.25</td>\n",
              "      <td>112.6</td>\n",
              "      <td>110.0</td>\n",
              "      <td>2.6</td>\n",
              "      <td>101.6</td>\n",
              "      <td>0.312</td>\n",
              "      <td>0.342</td>\n",
              "      <td>0.574</td>\n",
              "      <td>0.532</td>\n",
              "      <td>12.9</td>\n",
              "      <td>24.5</td>\n",
              "      <td>0.241</td>\n",
              "      <td>0.512</td>\n",
              "      <td>11.1</td>\n",
              "      <td>78.6</td>\n",
              "      <td>0.206</td>\n",
              "      <td>Wells Fargo Center</td>\n",
              "      <td>838342</td>\n",
              "      <td>20447</td>\n",
              "    </tr>\n",
              "    <tr>\n",
              "      <th>11</th>\n",
              "      <td>12.0</td>\n",
              "      <td>San Antonio Spurs*</td>\n",
              "      <td>28.8</td>\n",
              "      <td>48.0</td>\n",
              "      <td>34.0</td>\n",
              "      <td>45</td>\n",
              "      <td>37</td>\n",
              "      <td>1.68</td>\n",
              "      <td>0.12</td>\n",
              "      <td>1.80</td>\n",
              "      <td>112.9</td>\n",
              "      <td>111.2</td>\n",
              "      <td>1.7</td>\n",
              "      <td>98.3</td>\n",
              "      <td>0.237</td>\n",
              "      <td>0.286</td>\n",
              "      <td>0.572</td>\n",
              "      <td>0.534</td>\n",
              "      <td>11.0</td>\n",
              "      <td>21.0</td>\n",
              "      <td>0.194</td>\n",
              "      <td>0.528</td>\n",
              "      <td>11.0</td>\n",
              "      <td>79.4</td>\n",
              "      <td>0.170</td>\n",
              "      <td>AT&amp;T Center</td>\n",
              "      <td>750616</td>\n",
              "      <td>18308</td>\n",
              "    </tr>\n",
              "    <tr>\n",
              "      <th>12</th>\n",
              "      <td>13.0</td>\n",
              "      <td>Los Angeles Clippers*</td>\n",
              "      <td>27.2</td>\n",
              "      <td>48.0</td>\n",
              "      <td>34.0</td>\n",
              "      <td>43</td>\n",
              "      <td>39</td>\n",
              "      <td>0.85</td>\n",
              "      <td>0.23</td>\n",
              "      <td>1.09</td>\n",
              "      <td>112.4</td>\n",
              "      <td>111.5</td>\n",
              "      <td>0.9</td>\n",
              "      <td>101.7</td>\n",
              "      <td>0.326</td>\n",
              "      <td>0.295</td>\n",
              "      <td>0.575</td>\n",
              "      <td>0.529</td>\n",
              "      <td>12.7</td>\n",
              "      <td>22.0</td>\n",
              "      <td>0.258</td>\n",
              "      <td>0.514</td>\n",
              "      <td>11.4</td>\n",
              "      <td>76.0</td>\n",
              "      <td>0.224</td>\n",
              "      <td>STAPLES Center</td>\n",
              "      <td>710327</td>\n",
              "      <td>17325</td>\n",
              "    </tr>\n",
              "    <tr>\n",
              "      <th>13</th>\n",
              "      <td>14.0</td>\n",
              "      <td>Orlando Magic*</td>\n",
              "      <td>25.7</td>\n",
              "      <td>42.0</td>\n",
              "      <td>40.0</td>\n",
              "      <td>43</td>\n",
              "      <td>39</td>\n",
              "      <td>0.71</td>\n",
              "      <td>-0.43</td>\n",
              "      <td>0.28</td>\n",
              "      <td>108.9</td>\n",
              "      <td>108.1</td>\n",
              "      <td>0.8</td>\n",
              "      <td>98.1</td>\n",
              "      <td>0.216</td>\n",
              "      <td>0.360</td>\n",
              "      <td>0.550</td>\n",
              "      <td>0.518</td>\n",
              "      <td>11.9</td>\n",
              "      <td>22.0</td>\n",
              "      <td>0.168</td>\n",
              "      <td>0.515</td>\n",
              "      <td>11.8</td>\n",
              "      <td>79.7</td>\n",
              "      <td>0.186</td>\n",
              "      <td>Amway Center</td>\n",
              "      <td>720024</td>\n",
              "      <td>17431</td>\n",
              "    </tr>\n",
              "    <tr>\n",
              "      <th>14</th>\n",
              "      <td>15.0</td>\n",
              "      <td>Brooklyn Nets*</td>\n",
              "      <td>25.4</td>\n",
              "      <td>42.0</td>\n",
              "      <td>40.0</td>\n",
              "      <td>41</td>\n",
              "      <td>41</td>\n",
              "      <td>-0.07</td>\n",
              "      <td>-0.33</td>\n",
              "      <td>-0.40</td>\n",
              "      <td>109.6</td>\n",
              "      <td>109.7</td>\n",
              "      <td>-0.1</td>\n",
              "      <td>100.8</td>\n",
              "      <td>0.284</td>\n",
              "      <td>0.403</td>\n",
              "      <td>0.556</td>\n",
              "      <td>0.520</td>\n",
              "      <td>13.0</td>\n",
              "      <td>23.8</td>\n",
              "      <td>0.211</td>\n",
              "      <td>0.512</td>\n",
              "      <td>11.6</td>\n",
              "      <td>76.4</td>\n",
              "      <td>0.190</td>\n",
              "      <td>Barclays Center</td>\n",
              "      <td>612597</td>\n",
              "      <td>14941</td>\n",
              "    </tr>\n",
              "    <tr>\n",
              "      <th>15</th>\n",
              "      <td>16.0</td>\n",
              "      <td>Miami Heat</td>\n",
              "      <td>27.0</td>\n",
              "      <td>39.0</td>\n",
              "      <td>43.0</td>\n",
              "      <td>40</td>\n",
              "      <td>42</td>\n",
              "      <td>-0.23</td>\n",
              "      <td>-0.22</td>\n",
              "      <td>-0.45</td>\n",
              "      <td>107.3</td>\n",
              "      <td>107.6</td>\n",
              "      <td>-0.3</td>\n",
              "      <td>98.2</td>\n",
              "      <td>0.247</td>\n",
              "      <td>0.368</td>\n",
              "      <td>0.542</td>\n",
              "      <td>0.515</td>\n",
              "      <td>13.1</td>\n",
              "      <td>24.8</td>\n",
              "      <td>0.172</td>\n",
              "      <td>0.510</td>\n",
              "      <td>12.7</td>\n",
              "      <td>77.6</td>\n",
              "      <td>0.201</td>\n",
              "      <td>AmericanAirlines Arena</td>\n",
              "      <td>805264</td>\n",
              "      <td>19641</td>\n",
              "    </tr>\n",
              "    <tr>\n",
              "      <th>16</th>\n",
              "      <td>17.0</td>\n",
              "      <td>Detroit Pistons*</td>\n",
              "      <td>26.9</td>\n",
              "      <td>41.0</td>\n",
              "      <td>41.0</td>\n",
              "      <td>40</td>\n",
              "      <td>42</td>\n",
              "      <td>-0.24</td>\n",
              "      <td>-0.31</td>\n",
              "      <td>-0.56</td>\n",
              "      <td>109.0</td>\n",
              "      <td>109.2</td>\n",
              "      <td>-0.2</td>\n",
              "      <td>97.4</td>\n",
              "      <td>0.262</td>\n",
              "      <td>0.394</td>\n",
              "      <td>0.544</td>\n",
              "      <td>0.509</td>\n",
              "      <td>12.3</td>\n",
              "      <td>24.8</td>\n",
              "      <td>0.195</td>\n",
              "      <td>0.526</td>\n",
              "      <td>12.8</td>\n",
              "      <td>78.7</td>\n",
              "      <td>0.211</td>\n",
              "      <td>Little Caesars Arena</td>\n",
              "      <td>675963</td>\n",
              "      <td>16487</td>\n",
              "    </tr>\n",
              "    <tr>\n",
              "      <th>17</th>\n",
              "      <td>18.0</td>\n",
              "      <td>Sacramento Kings</td>\n",
              "      <td>24.8</td>\n",
              "      <td>39.0</td>\n",
              "      <td>43.0</td>\n",
              "      <td>38</td>\n",
              "      <td>44</td>\n",
              "      <td>-1.12</td>\n",
              "      <td>0.31</td>\n",
              "      <td>-0.81</td>\n",
              "      <td>110.4</td>\n",
              "      <td>111.5</td>\n",
              "      <td>-1.1</td>\n",
              "      <td>103.1</td>\n",
              "      <td>0.244</td>\n",
              "      <td>0.321</td>\n",
              "      <td>0.554</td>\n",
              "      <td>0.524</td>\n",
              "      <td>11.5</td>\n",
              "      <td>23.1</td>\n",
              "      <td>0.177</td>\n",
              "      <td>0.533</td>\n",
              "      <td>13.6</td>\n",
              "      <td>75.5</td>\n",
              "      <td>0.207</td>\n",
              "      <td>Golden 1 Center</td>\n",
              "      <td>700975</td>\n",
              "      <td>17097</td>\n",
              "    </tr>\n",
              "    <tr>\n",
              "      <th>18</th>\n",
              "      <td>19.0</td>\n",
              "      <td>Dallas Mavericks</td>\n",
              "      <td>26.9</td>\n",
              "      <td>33.0</td>\n",
              "      <td>49.0</td>\n",
              "      <td>38</td>\n",
              "      <td>44</td>\n",
              "      <td>-1.28</td>\n",
              "      <td>0.42</td>\n",
              "      <td>-0.87</td>\n",
              "      <td>109.4</td>\n",
              "      <td>110.7</td>\n",
              "      <td>-1.3</td>\n",
              "      <td>99.0</td>\n",
              "      <td>0.291</td>\n",
              "      <td>0.422</td>\n",
              "      <td>0.555</td>\n",
              "      <td>0.519</td>\n",
              "      <td>12.7</td>\n",
              "      <td>22.7</td>\n",
              "      <td>0.216</td>\n",
              "      <td>0.522</td>\n",
              "      <td>11.6</td>\n",
              "      <td>77.5</td>\n",
              "      <td>0.191</td>\n",
              "      <td>American Airlines Center</td>\n",
              "      <td>820569</td>\n",
              "      <td>20014</td>\n",
              "    </tr>\n",
              "    <tr>\n",
              "      <th>19</th>\n",
              "      <td>20.0</td>\n",
              "      <td>Minnesota Timberwolves</td>\n",
              "      <td>26.2</td>\n",
              "      <td>36.0</td>\n",
              "      <td>46.0</td>\n",
              "      <td>37</td>\n",
              "      <td>45</td>\n",
              "      <td>-1.50</td>\n",
              "      <td>0.48</td>\n",
              "      <td>-1.02</td>\n",
              "      <td>111.4</td>\n",
              "      <td>112.9</td>\n",
              "      <td>-1.5</td>\n",
              "      <td>100.2</td>\n",
              "      <td>0.267</td>\n",
              "      <td>0.315</td>\n",
              "      <td>0.552</td>\n",
              "      <td>0.511</td>\n",
              "      <td>11.4</td>\n",
              "      <td>24.6</td>\n",
              "      <td>0.210</td>\n",
              "      <td>0.538</td>\n",
              "      <td>12.9</td>\n",
              "      <td>74.9</td>\n",
              "      <td>0.190</td>\n",
              "      <td>Target Center</td>\n",
              "      <td>627543</td>\n",
              "      <td>15306</td>\n",
              "    </tr>\n",
              "    <tr>\n",
              "      <th>20</th>\n",
              "      <td>21.0</td>\n",
              "      <td>New Orleans Pelicans</td>\n",
              "      <td>25.7</td>\n",
              "      <td>33.0</td>\n",
              "      <td>49.0</td>\n",
              "      <td>38</td>\n",
              "      <td>44</td>\n",
              "      <td>-1.33</td>\n",
              "      <td>0.23</td>\n",
              "      <td>-1.10</td>\n",
              "      <td>111.4</td>\n",
              "      <td>112.6</td>\n",
              "      <td>-1.2</td>\n",
              "      <td>103.3</td>\n",
              "      <td>0.254</td>\n",
              "      <td>0.324</td>\n",
              "      <td>0.563</td>\n",
              "      <td>0.529</td>\n",
              "      <td>12.6</td>\n",
              "      <td>24.1</td>\n",
              "      <td>0.193</td>\n",
              "      <td>0.532</td>\n",
              "      <td>11.6</td>\n",
              "      <td>76.8</td>\n",
              "      <td>0.193</td>\n",
              "      <td>Smoothie King Center</td>\n",
              "      <td>656183</td>\n",
              "      <td>16004</td>\n",
              "    </tr>\n",
              "    <tr>\n",
              "      <th>21</th>\n",
              "      <td>22.0</td>\n",
              "      <td>Charlotte Hornets</td>\n",
              "      <td>26.6</td>\n",
              "      <td>39.0</td>\n",
              "      <td>43.0</td>\n",
              "      <td>38</td>\n",
              "      <td>44</td>\n",
              "      <td>-1.10</td>\n",
              "      <td>-0.22</td>\n",
              "      <td>-1.32</td>\n",
              "      <td>111.4</td>\n",
              "      <td>112.5</td>\n",
              "      <td>-1.1</td>\n",
              "      <td>98.7</td>\n",
              "      <td>0.257</td>\n",
              "      <td>0.378</td>\n",
              "      <td>0.554</td>\n",
              "      <td>0.514</td>\n",
              "      <td>10.9</td>\n",
              "      <td>21.7</td>\n",
              "      <td>0.205</td>\n",
              "      <td>0.538</td>\n",
              "      <td>12.1</td>\n",
              "      <td>77.1</td>\n",
              "      <td>0.179</td>\n",
              "      <td>Spectrum Center</td>\n",
              "      <td>676570</td>\n",
              "      <td>16502</td>\n",
              "    </tr>\n",
              "    <tr>\n",
              "      <th>22</th>\n",
              "      <td>23.0</td>\n",
              "      <td>Los Angeles Lakers</td>\n",
              "      <td>26.2</td>\n",
              "      <td>37.0</td>\n",
              "      <td>45.0</td>\n",
              "      <td>37</td>\n",
              "      <td>45</td>\n",
              "      <td>-1.72</td>\n",
              "      <td>0.39</td>\n",
              "      <td>-1.33</td>\n",
              "      <td>107.8</td>\n",
              "      <td>109.5</td>\n",
              "      <td>-1.7</td>\n",
              "      <td>103.2</td>\n",
              "      <td>0.257</td>\n",
              "      <td>0.342</td>\n",
              "      <td>0.554</td>\n",
              "      <td>0.527</td>\n",
              "      <td>13.4</td>\n",
              "      <td>22.2</td>\n",
              "      <td>0.180</td>\n",
              "      <td>0.516</td>\n",
              "      <td>12.2</td>\n",
              "      <td>76.4</td>\n",
              "      <td>0.192</td>\n",
              "      <td>STAPLES Center</td>\n",
              "      <td>778877</td>\n",
              "      <td>18997</td>\n",
              "    </tr>\n",
              "    <tr>\n",
              "      <th>23</th>\n",
              "      <td>24.0</td>\n",
              "      <td>Memphis Grizzlies</td>\n",
              "      <td>27.7</td>\n",
              "      <td>33.0</td>\n",
              "      <td>49.0</td>\n",
              "      <td>34</td>\n",
              "      <td>48</td>\n",
              "      <td>-2.60</td>\n",
              "      <td>0.51</td>\n",
              "      <td>-2.08</td>\n",
              "      <td>106.1</td>\n",
              "      <td>108.8</td>\n",
              "      <td>-2.7</td>\n",
              "      <td>96.6</td>\n",
              "      <td>0.272</td>\n",
              "      <td>0.342</td>\n",
              "      <td>0.548</td>\n",
              "      <td>0.508</td>\n",
              "      <td>12.9</td>\n",
              "      <td>20.0</td>\n",
              "      <td>0.210</td>\n",
              "      <td>0.521</td>\n",
              "      <td>13.9</td>\n",
              "      <td>77.6</td>\n",
              "      <td>0.232</td>\n",
              "      <td>FedEx Forum</td>\n",
              "      <td>638332</td>\n",
              "      <td>15569</td>\n",
              "    </tr>\n",
              "    <tr>\n",
              "      <th>24</th>\n",
              "      <td>25.0</td>\n",
              "      <td>Washington Wizards</td>\n",
              "      <td>26.5</td>\n",
              "      <td>32.0</td>\n",
              "      <td>50.0</td>\n",
              "      <td>34</td>\n",
              "      <td>48</td>\n",
              "      <td>-2.90</td>\n",
              "      <td>-0.40</td>\n",
              "      <td>-3.30</td>\n",
              "      <td>111.1</td>\n",
              "      <td>113.9</td>\n",
              "      <td>-2.8</td>\n",
              "      <td>101.4</td>\n",
              "      <td>0.266</td>\n",
              "      <td>0.370</td>\n",
              "      <td>0.567</td>\n",
              "      <td>0.531</td>\n",
              "      <td>12.3</td>\n",
              "      <td>21.3</td>\n",
              "      <td>0.204</td>\n",
              "      <td>0.546</td>\n",
              "      <td>13.5</td>\n",
              "      <td>74.1</td>\n",
              "      <td>0.199</td>\n",
              "      <td>Capital One Arena</td>\n",
              "      <td>716996</td>\n",
              "      <td>17448</td>\n",
              "    </tr>\n",
              "    <tr>\n",
              "      <th>25</th>\n",
              "      <td>26.0</td>\n",
              "      <td>Atlanta Hawks</td>\n",
              "      <td>25.1</td>\n",
              "      <td>29.0</td>\n",
              "      <td>53.0</td>\n",
              "      <td>27</td>\n",
              "      <td>55</td>\n",
              "      <td>-6.02</td>\n",
              "      <td>-0.04</td>\n",
              "      <td>-6.06</td>\n",
              "      <td>108.1</td>\n",
              "      <td>113.9</td>\n",
              "      <td>-5.8</td>\n",
              "      <td>103.9</td>\n",
              "      <td>0.255</td>\n",
              "      <td>0.403</td>\n",
              "      <td>0.555</td>\n",
              "      <td>0.522</td>\n",
              "      <td>14.3</td>\n",
              "      <td>24.7</td>\n",
              "      <td>0.192</td>\n",
              "      <td>0.541</td>\n",
              "      <td>12.8</td>\n",
              "      <td>76.4</td>\n",
              "      <td>0.237</td>\n",
              "      <td>State Farm Arena</td>\n",
              "      <td>628440</td>\n",
              "      <td>15328</td>\n",
              "    </tr>\n",
              "    <tr>\n",
              "      <th>26</th>\n",
              "      <td>27.0</td>\n",
              "      <td>Chicago Bulls</td>\n",
              "      <td>24.0</td>\n",
              "      <td>22.0</td>\n",
              "      <td>60.0</td>\n",
              "      <td>21</td>\n",
              "      <td>61</td>\n",
              "      <td>-8.41</td>\n",
              "      <td>0.10</td>\n",
              "      <td>-8.32</td>\n",
              "      <td>104.8</td>\n",
              "      <td>113.2</td>\n",
              "      <td>-8.4</td>\n",
              "      <td>99.0</td>\n",
              "      <td>0.235</td>\n",
              "      <td>0.295</td>\n",
              "      <td>0.541</td>\n",
              "      <td>0.505</td>\n",
              "      <td>12.7</td>\n",
              "      <td>19.4</td>\n",
              "      <td>0.184</td>\n",
              "      <td>0.541</td>\n",
              "      <td>11.9</td>\n",
              "      <td>77.3</td>\n",
              "      <td>0.188</td>\n",
              "      <td>United Center</td>\n",
              "      <td>823475</td>\n",
              "      <td>20085</td>\n",
              "    </tr>\n",
              "    <tr>\n",
              "      <th>27</th>\n",
              "      <td>28.0</td>\n",
              "      <td>Phoenix Suns</td>\n",
              "      <td>24.0</td>\n",
              "      <td>19.0</td>\n",
              "      <td>63.0</td>\n",
              "      <td>19</td>\n",
              "      <td>63</td>\n",
              "      <td>-9.34</td>\n",
              "      <td>0.73</td>\n",
              "      <td>-8.61</td>\n",
              "      <td>105.9</td>\n",
              "      <td>115.1</td>\n",
              "      <td>-9.2</td>\n",
              "      <td>100.5</td>\n",
              "      <td>0.259</td>\n",
              "      <td>0.335</td>\n",
              "      <td>0.552</td>\n",
              "      <td>0.514</td>\n",
              "      <td>13.8</td>\n",
              "      <td>20.5</td>\n",
              "      <td>0.202</td>\n",
              "      <td>0.545</td>\n",
              "      <td>13.5</td>\n",
              "      <td>72.5</td>\n",
              "      <td>0.236</td>\n",
              "      <td>Talking Stick Resort Arena</td>\n",
              "      <td>627023</td>\n",
              "      <td>15293</td>\n",
              "    </tr>\n",
              "    <tr>\n",
              "      <th>28</th>\n",
              "      <td>29.0</td>\n",
              "      <td>New York Knicks</td>\n",
              "      <td>23.4</td>\n",
              "      <td>17.0</td>\n",
              "      <td>65.0</td>\n",
              "      <td>19</td>\n",
              "      <td>63</td>\n",
              "      <td>-9.21</td>\n",
              "      <td>0.28</td>\n",
              "      <td>-8.93</td>\n",
              "      <td>104.5</td>\n",
              "      <td>113.7</td>\n",
              "      <td>-9.2</td>\n",
              "      <td>99.6</td>\n",
              "      <td>0.270</td>\n",
              "      <td>0.334</td>\n",
              "      <td>0.529</td>\n",
              "      <td>0.490</td>\n",
              "      <td>12.4</td>\n",
              "      <td>22.1</td>\n",
              "      <td>0.205</td>\n",
              "      <td>0.533</td>\n",
              "      <td>11.7</td>\n",
              "      <td>76.1</td>\n",
              "      <td>0.203</td>\n",
              "      <td>Madison Square Garden (IV)</td>\n",
              "      <td>779087</td>\n",
              "      <td>19002</td>\n",
              "    </tr>\n",
              "    <tr>\n",
              "      <th>29</th>\n",
              "      <td>30.0</td>\n",
              "      <td>Cleveland Cavaliers</td>\n",
              "      <td>25.2</td>\n",
              "      <td>19.0</td>\n",
              "      <td>63.0</td>\n",
              "      <td>19</td>\n",
              "      <td>63</td>\n",
              "      <td>-9.61</td>\n",
              "      <td>0.22</td>\n",
              "      <td>-9.39</td>\n",
              "      <td>107.7</td>\n",
              "      <td>117.6</td>\n",
              "      <td>-9.9</td>\n",
              "      <td>96.6</td>\n",
              "      <td>0.236</td>\n",
              "      <td>0.332</td>\n",
              "      <td>0.540</td>\n",
              "      <td>0.503</td>\n",
              "      <td>12.2</td>\n",
              "      <td>23.7</td>\n",
              "      <td>0.187</td>\n",
              "      <td>0.564</td>\n",
              "      <td>11.5</td>\n",
              "      <td>77.0</td>\n",
              "      <td>0.181</td>\n",
              "      <td>Quicken Loans Arena</td>\n",
              "      <td>793337</td>\n",
              "      <td>19350</td>\n",
              "    </tr>\n",
              "    <tr>\n",
              "      <th>30</th>\n",
              "      <td>NaN</td>\n",
              "      <td>League Average</td>\n",
              "      <td>26.4</td>\n",
              "      <td>NaN</td>\n",
              "      <td>NaN</td>\n",
              "      <td>41</td>\n",
              "      <td>41</td>\n",
              "      <td>0.00</td>\n",
              "      <td>0.00</td>\n",
              "      <td>0.00</td>\n",
              "      <td>110.4</td>\n",
              "      <td>110.4</td>\n",
              "      <td>NaN</td>\n",
              "      <td>100.0</td>\n",
              "      <td>0.259</td>\n",
              "      <td>0.359</td>\n",
              "      <td>0.560</td>\n",
              "      <td>0.524</td>\n",
              "      <td>12.4</td>\n",
              "      <td>22.9</td>\n",
              "      <td>0.198</td>\n",
              "      <td>0.524</td>\n",
              "      <td>12.4</td>\n",
              "      <td>77.1</td>\n",
              "      <td>0.198</td>\n",
              "      <td>NaN</td>\n",
              "      <td>732148</td>\n",
              "      <td>17853</td>\n",
              "    </tr>\n",
              "  </tbody>\n",
              "</table>\n",
              "</div>"
            ],
            "text/plain": [
              "      Rk                     Team  ...  Attend.  Attend./G\n",
              "0    1.0         Milwaukee Bucks*  ...   721692      17602\n",
              "1    2.0   Golden State Warriors*  ...   803436      19596\n",
              "2    3.0         Toronto Raptors*  ...   812822      19825\n",
              "3    4.0               Utah Jazz*  ...   750546      18306\n",
              "4    5.0         Houston Rockets*  ...   740392      18058\n",
              "5    6.0  Portland Trail Blazers*  ...   799345      19496\n",
              "6    7.0          Denver Nuggets*  ...   756457      18450\n",
              "7    8.0          Boston Celtics*  ...   763584      18624\n",
              "8    9.0   Oklahoma City Thunder*  ...   746323      18203\n",
              "9   10.0          Indiana Pacers*  ...   689310      16812\n",
              "10  11.0      Philadelphia 76ers*  ...   838342      20447\n",
              "11  12.0       San Antonio Spurs*  ...   750616      18308\n",
              "12  13.0    Los Angeles Clippers*  ...   710327      17325\n",
              "13  14.0           Orlando Magic*  ...   720024      17431\n",
              "14  15.0           Brooklyn Nets*  ...   612597      14941\n",
              "15  16.0               Miami Heat  ...   805264      19641\n",
              "16  17.0         Detroit Pistons*  ...   675963      16487\n",
              "17  18.0         Sacramento Kings  ...   700975      17097\n",
              "18  19.0         Dallas Mavericks  ...   820569      20014\n",
              "19  20.0   Minnesota Timberwolves  ...   627543      15306\n",
              "20  21.0     New Orleans Pelicans  ...   656183      16004\n",
              "21  22.0        Charlotte Hornets  ...   676570      16502\n",
              "22  23.0       Los Angeles Lakers  ...   778877      18997\n",
              "23  24.0        Memphis Grizzlies  ...   638332      15569\n",
              "24  25.0       Washington Wizards  ...   716996      17448\n",
              "25  26.0            Atlanta Hawks  ...   628440      15328\n",
              "26  27.0            Chicago Bulls  ...   823475      20085\n",
              "27  28.0             Phoenix Suns  ...   627023      15293\n",
              "28  29.0          New York Knicks  ...   779087      19002\n",
              "29  30.0      Cleveland Cavaliers  ...   793337      19350\n",
              "30   NaN           League Average  ...   732148      17853\n",
              "\n",
              "[31 rows x 28 columns]"
            ]
          },
          "metadata": {
            "tags": []
          },
          "execution_count": 6
        }
      ]
    },
    {
      "cell_type": "markdown",
      "metadata": {
        "id": "MFlq5kk_tYeW"
      },
      "source": [
        "***DataFrame facts:***\r\n",
        "\r\n",
        "*   Rows - 31\r\n",
        "*   Columns - 28\r\n",
        "*   Each row is a seperate NBA team\r\n",
        "\r\n",
        "\r\n",
        "\r\n",
        "\r\n",
        "\r\n"
      ]
    },
    {
      "cell_type": "markdown",
      "metadata": {
        "id": "t4bIsOYWiiZR"
      },
      "source": [
        "***Null Values & DataTypes:***\r\n",
        "\r\n",
        "We will determine where there may be null values within our datasets and the what the datatypes are."
      ]
    },
    {
      "cell_type": "code",
      "metadata": {
        "id": "VWSjtAqZX_-n"
      },
      "source": [
        ""
      ],
      "execution_count": null,
      "outputs": []
    },
    {
      "cell_type": "code",
      "metadata": {
        "colab": {
          "base_uri": "https://localhost:8080/"
        },
        "id": "bkhSk7S3fzAA",
        "outputId": "d204a78e-d57d-4435-9ddb-a24445062406"
      },
      "source": [
        "df_win_lose.info()"
      ],
      "execution_count": null,
      "outputs": [
        {
          "output_type": "stream",
          "text": [
            "<class 'pandas.core.frame.DataFrame'>\n",
            "RangeIndex: 1312 entries, 0 to 1311\n",
            "Data columns (total 5 columns):\n",
            " #   Column   Non-Null Count  Dtype \n",
            "---  ------   --------------  ----- \n",
            " 0   Date     1312 non-null   object\n",
            " 1   Visitor  1312 non-null   object\n",
            " 2   V_PTS    1312 non-null   int64 \n",
            " 3   Home     1312 non-null   object\n",
            " 4   H_PTS    1312 non-null   int64 \n",
            "dtypes: int64(2), object(3)\n",
            "memory usage: 51.4+ KB\n"
          ],
          "name": "stdout"
        }
      ]
    },
    {
      "cell_type": "markdown",
      "metadata": {
        "id": "J1uvte_iuZU_"
      },
      "source": [
        "From the looks of this, there does not seem to be any null values in this dataset for wins and losses for games played in the 2018 - 2019 NBA season.\r\n",
        "\r\n",
        "*Datatypes:*\r\n",
        "\r\n",
        "\r\n",
        "*   object (3)\r\n",
        "*   int64 (2)\r\n",
        "\r\n",
        "\r\n"
      ]
    },
    {
      "cell_type": "code",
      "metadata": {
        "colab": {
          "base_uri": "https://localhost:8080/"
        },
        "id": "t0Bm0pqGsFBu",
        "outputId": "3522f762-182b-41c3-c547-0c8eeb307f86"
      },
      "source": [
        "df_misc.info()"
      ],
      "execution_count": null,
      "outputs": [
        {
          "output_type": "stream",
          "text": [
            "<class 'pandas.core.frame.DataFrame'>\n",
            "RangeIndex: 31 entries, 0 to 30\n",
            "Data columns (total 28 columns):\n",
            " #   Column     Non-Null Count  Dtype  \n",
            "---  ------     --------------  -----  \n",
            " 0   Rk         30 non-null     float64\n",
            " 1   Team       31 non-null     object \n",
            " 2   Age        31 non-null     float64\n",
            " 3   W          30 non-null     float64\n",
            " 4   L          30 non-null     float64\n",
            " 5   PW         31 non-null     int64  \n",
            " 6   PL         31 non-null     int64  \n",
            " 7   MOV        31 non-null     float64\n",
            " 8   SOS        31 non-null     float64\n",
            " 9   SRS        31 non-null     float64\n",
            " 10  ORtg       31 non-null     float64\n",
            " 11  DRtg       31 non-null     float64\n",
            " 12  NRtg       30 non-null     float64\n",
            " 13  Pace       31 non-null     float64\n",
            " 14  FTr        31 non-null     float64\n",
            " 15  3PAr       31 non-null     float64\n",
            " 16  TS%        31 non-null     float64\n",
            " 17  eFG%       31 non-null     float64\n",
            " 18  TOV%       31 non-null     float64\n",
            " 19  ORB%       31 non-null     float64\n",
            " 20  FT/FGA     31 non-null     float64\n",
            " 21  eFG%.1     31 non-null     float64\n",
            " 22  TOV%.1     31 non-null     float64\n",
            " 23  DRB%       31 non-null     float64\n",
            " 24  FT/FGA.1   31 non-null     float64\n",
            " 25  Arena      30 non-null     object \n",
            " 26  Attend.    31 non-null     int64  \n",
            " 27  Attend./G  31 non-null     int64  \n",
            "dtypes: float64(22), int64(4), object(2)\n",
            "memory usage: 6.9+ KB\n"
          ],
          "name": "stdout"
        }
      ]
    },
    {
      "cell_type": "markdown",
      "metadata": {
        "id": "sy4FD3G7uu5c"
      },
      "source": [
        "On the other hand, this dataset does seem to have at the most one null values in five different columns.\r\n",
        "\r\n",
        "*Datatypes:*\r\n",
        "\r\n",
        "\r\n",
        "*   object (2)\r\n",
        "*   int64 (4)\r\n",
        "*   float64 (22)\r\n",
        "\r\n"
      ]
    },
    {
      "cell_type": "markdown",
      "metadata": {
        "id": "JCRBryWyvamn"
      },
      "source": [
        "For one final overview, we will look at a summary of the data."
      ]
    },
    {
      "cell_type": "code",
      "metadata": {
        "colab": {
          "base_uri": "https://localhost:8080/",
          "height": 297
        },
        "id": "HOD2uYenvyLb",
        "outputId": "8a39b78e-0638-4051-a7d8-b5a495ba2815"
      },
      "source": [
        "# First dataset summary\r\n",
        "df_win_lose.describe()"
      ],
      "execution_count": null,
      "outputs": [
        {
          "output_type": "execute_result",
          "data": {
            "text/html": [
              "<div>\n",
              "<style scoped>\n",
              "    .dataframe tbody tr th:only-of-type {\n",
              "        vertical-align: middle;\n",
              "    }\n",
              "\n",
              "    .dataframe tbody tr th {\n",
              "        vertical-align: top;\n",
              "    }\n",
              "\n",
              "    .dataframe thead th {\n",
              "        text-align: right;\n",
              "    }\n",
              "</style>\n",
              "<table border=\"1\" class=\"dataframe\">\n",
              "  <thead>\n",
              "    <tr style=\"text-align: right;\">\n",
              "      <th></th>\n",
              "      <th>V_PTS</th>\n",
              "      <th>H_PTS</th>\n",
              "    </tr>\n",
              "  </thead>\n",
              "  <tbody>\n",
              "    <tr>\n",
              "      <th>count</th>\n",
              "      <td>1312.000000</td>\n",
              "      <td>1312.000000</td>\n",
              "    </tr>\n",
              "    <tr>\n",
              "      <th>mean</th>\n",
              "      <td>109.592988</td>\n",
              "      <td>112.385671</td>\n",
              "    </tr>\n",
              "    <tr>\n",
              "      <th>std</th>\n",
              "      <td>12.521306</td>\n",
              "      <td>12.653055</td>\n",
              "    </tr>\n",
              "    <tr>\n",
              "      <th>min</th>\n",
              "      <td>68.000000</td>\n",
              "      <td>77.000000</td>\n",
              "    </tr>\n",
              "    <tr>\n",
              "      <th>25%</th>\n",
              "      <td>101.000000</td>\n",
              "      <td>104.000000</td>\n",
              "    </tr>\n",
              "    <tr>\n",
              "      <th>50%</th>\n",
              "      <td>110.000000</td>\n",
              "      <td>112.000000</td>\n",
              "    </tr>\n",
              "    <tr>\n",
              "      <th>75%</th>\n",
              "      <td>118.000000</td>\n",
              "      <td>121.000000</td>\n",
              "    </tr>\n",
              "    <tr>\n",
              "      <th>max</th>\n",
              "      <td>168.000000</td>\n",
              "      <td>161.000000</td>\n",
              "    </tr>\n",
              "  </tbody>\n",
              "</table>\n",
              "</div>"
            ],
            "text/plain": [
              "             V_PTS        H_PTS\n",
              "count  1312.000000  1312.000000\n",
              "mean    109.592988   112.385671\n",
              "std      12.521306    12.653055\n",
              "min      68.000000    77.000000\n",
              "25%     101.000000   104.000000\n",
              "50%     110.000000   112.000000\n",
              "75%     118.000000   121.000000\n",
              "max     168.000000   161.000000"
            ]
          },
          "metadata": {
            "tags": []
          },
          "execution_count": 9
        }
      ]
    },
    {
      "cell_type": "code",
      "metadata": {
        "colab": {
          "base_uri": "https://localhost:8080/",
          "height": 317
        },
        "id": "InpFve4gwIwS",
        "outputId": "8e1d7056-ab83-48ee-dffd-a680ca56e953"
      },
      "source": [
        "# Second dataset summary\r\n",
        "df_misc.describe()"
      ],
      "execution_count": null,
      "outputs": [
        {
          "output_type": "execute_result",
          "data": {
            "text/html": [
              "<div>\n",
              "<style scoped>\n",
              "    .dataframe tbody tr th:only-of-type {\n",
              "        vertical-align: middle;\n",
              "    }\n",
              "\n",
              "    .dataframe tbody tr th {\n",
              "        vertical-align: top;\n",
              "    }\n",
              "\n",
              "    .dataframe thead th {\n",
              "        text-align: right;\n",
              "    }\n",
              "</style>\n",
              "<table border=\"1\" class=\"dataframe\">\n",
              "  <thead>\n",
              "    <tr style=\"text-align: right;\">\n",
              "      <th></th>\n",
              "      <th>Rk</th>\n",
              "      <th>Age</th>\n",
              "      <th>W</th>\n",
              "      <th>L</th>\n",
              "      <th>PW</th>\n",
              "      <th>PL</th>\n",
              "      <th>MOV</th>\n",
              "      <th>SOS</th>\n",
              "      <th>SRS</th>\n",
              "      <th>ORtg</th>\n",
              "      <th>DRtg</th>\n",
              "      <th>NRtg</th>\n",
              "      <th>Pace</th>\n",
              "      <th>FTr</th>\n",
              "      <th>3PAr</th>\n",
              "      <th>TS%</th>\n",
              "      <th>eFG%</th>\n",
              "      <th>TOV%</th>\n",
              "      <th>ORB%</th>\n",
              "      <th>FT/FGA</th>\n",
              "      <th>eFG%.1</th>\n",
              "      <th>TOV%.1</th>\n",
              "      <th>DRB%</th>\n",
              "      <th>FT/FGA.1</th>\n",
              "      <th>Attend.</th>\n",
              "      <th>Attend./G</th>\n",
              "    </tr>\n",
              "  </thead>\n",
              "  <tbody>\n",
              "    <tr>\n",
              "      <th>count</th>\n",
              "      <td>30.000000</td>\n",
              "      <td>31.000000</td>\n",
              "      <td>30.000000</td>\n",
              "      <td>30.000000</td>\n",
              "      <td>31.000000</td>\n",
              "      <td>31.000000</td>\n",
              "      <td>31.000000</td>\n",
              "      <td>31.000000</td>\n",
              "      <td>31.000000</td>\n",
              "      <td>31.000000</td>\n",
              "      <td>31.000000</td>\n",
              "      <td>30.000000</td>\n",
              "      <td>31.000000</td>\n",
              "      <td>31.000000</td>\n",
              "      <td>31.000000</td>\n",
              "      <td>31.000000</td>\n",
              "      <td>31.000000</td>\n",
              "      <td>31.000000</td>\n",
              "      <td>31.000000</td>\n",
              "      <td>31.000000</td>\n",
              "      <td>31.00000</td>\n",
              "      <td>31.000000</td>\n",
              "      <td>31.000000</td>\n",
              "      <td>31.00000</td>\n",
              "      <td>31.000000</td>\n",
              "      <td>31.000000</td>\n",
              "    </tr>\n",
              "    <tr>\n",
              "      <th>mean</th>\n",
              "      <td>15.500000</td>\n",
              "      <td>26.280645</td>\n",
              "      <td>41.000000</td>\n",
              "      <td>41.000000</td>\n",
              "      <td>41.096774</td>\n",
              "      <td>40.903226</td>\n",
              "      <td>0.000968</td>\n",
              "      <td>-0.002903</td>\n",
              "      <td>-0.003226</td>\n",
              "      <td>110.400000</td>\n",
              "      <td>110.403226</td>\n",
              "      <td>-0.003333</td>\n",
              "      <td>100.035484</td>\n",
              "      <td>0.258774</td>\n",
              "      <td>0.358774</td>\n",
              "      <td>0.559581</td>\n",
              "      <td>0.524161</td>\n",
              "      <td>12.400000</td>\n",
              "      <td>22.887097</td>\n",
              "      <td>0.198290</td>\n",
              "      <td>0.52429</td>\n",
              "      <td>12.416129</td>\n",
              "      <td>77.070968</td>\n",
              "      <td>0.19829</td>\n",
              "      <td>732148.225806</td>\n",
              "      <td>17851.612903</td>\n",
              "    </tr>\n",
              "    <tr>\n",
              "      <th>std</th>\n",
              "      <td>8.803408</td>\n",
              "      <td>1.343731</td>\n",
              "      <td>12.028701</td>\n",
              "      <td>12.028701</td>\n",
              "      <td>11.452379</td>\n",
              "      <td>11.452379</td>\n",
              "      <td>4.804882</td>\n",
              "      <td>0.381743</td>\n",
              "      <td>4.625261</td>\n",
              "      <td>2.957476</td>\n",
              "      <td>2.893151</td>\n",
              "      <td>4.862984</td>\n",
              "      <td>2.095002</td>\n",
              "      <td>0.025231</td>\n",
              "      <td>0.047483</td>\n",
              "      <td>0.014809</td>\n",
              "      <td>0.014989</td>\n",
              "      <td>0.765071</td>\n",
              "      <td>1.834074</td>\n",
              "      <td>0.019905</td>\n",
              "      <td>0.01406</td>\n",
              "      <td>0.966470</td>\n",
              "      <td>1.733242</td>\n",
              "      <td>0.01730</td>\n",
              "      <td>66124.690768</td>\n",
              "      <td>1614.137596</td>\n",
              "    </tr>\n",
              "    <tr>\n",
              "      <th>min</th>\n",
              "      <td>1.000000</td>\n",
              "      <td>23.400000</td>\n",
              "      <td>17.000000</td>\n",
              "      <td>22.000000</td>\n",
              "      <td>19.000000</td>\n",
              "      <td>21.000000</td>\n",
              "      <td>-9.610000</td>\n",
              "      <td>-0.820000</td>\n",
              "      <td>-9.390000</td>\n",
              "      <td>104.500000</td>\n",
              "      <td>105.200000</td>\n",
              "      <td>-9.900000</td>\n",
              "      <td>96.600000</td>\n",
              "      <td>0.215000</td>\n",
              "      <td>0.286000</td>\n",
              "      <td>0.529000</td>\n",
              "      <td>0.490000</td>\n",
              "      <td>10.900000</td>\n",
              "      <td>19.400000</td>\n",
              "      <td>0.168000</td>\n",
              "      <td>0.50300</td>\n",
              "      <td>11.000000</td>\n",
              "      <td>72.500000</td>\n",
              "      <td>0.16200</td>\n",
              "      <td>612597.000000</td>\n",
              "      <td>14941.000000</td>\n",
              "    </tr>\n",
              "    <tr>\n",
              "      <th>25%</th>\n",
              "      <td>8.250000</td>\n",
              "      <td>25.550000</td>\n",
              "      <td>33.000000</td>\n",
              "      <td>32.250000</td>\n",
              "      <td>37.000000</td>\n",
              "      <td>31.500000</td>\n",
              "      <td>-1.610000</td>\n",
              "      <td>-0.320000</td>\n",
              "      <td>-1.325000</td>\n",
              "      <td>108.500000</td>\n",
              "      <td>108.450000</td>\n",
              "      <td>-1.650000</td>\n",
              "      <td>98.250000</td>\n",
              "      <td>0.243000</td>\n",
              "      <td>0.333000</td>\n",
              "      <td>0.551000</td>\n",
              "      <td>0.514000</td>\n",
              "      <td>11.950000</td>\n",
              "      <td>21.800000</td>\n",
              "      <td>0.183000</td>\n",
              "      <td>0.51400</td>\n",
              "      <td>11.600000</td>\n",
              "      <td>76.300000</td>\n",
              "      <td>0.18950</td>\n",
              "      <td>682940.000000</td>\n",
              "      <td>16657.000000</td>\n",
              "    </tr>\n",
              "    <tr>\n",
              "      <th>50%</th>\n",
              "      <td>15.500000</td>\n",
              "      <td>26.400000</td>\n",
              "      <td>41.500000</td>\n",
              "      <td>40.500000</td>\n",
              "      <td>41.000000</td>\n",
              "      <td>41.000000</td>\n",
              "      <td>-0.070000</td>\n",
              "      <td>0.100000</td>\n",
              "      <td>-0.400000</td>\n",
              "      <td>110.400000</td>\n",
              "      <td>110.400000</td>\n",
              "      <td>-0.150000</td>\n",
              "      <td>100.000000</td>\n",
              "      <td>0.257000</td>\n",
              "      <td>0.348000</td>\n",
              "      <td>0.556000</td>\n",
              "      <td>0.524000</td>\n",
              "      <td>12.400000</td>\n",
              "      <td>22.700000</td>\n",
              "      <td>0.197000</td>\n",
              "      <td>0.52200</td>\n",
              "      <td>12.300000</td>\n",
              "      <td>77.100000</td>\n",
              "      <td>0.19500</td>\n",
              "      <td>740392.000000</td>\n",
              "      <td>18058.000000</td>\n",
              "    </tr>\n",
              "    <tr>\n",
              "      <th>75%</th>\n",
              "      <td>22.750000</td>\n",
              "      <td>27.000000</td>\n",
              "      <td>49.750000</td>\n",
              "      <td>49.000000</td>\n",
              "      <td>50.500000</td>\n",
              "      <td>45.000000</td>\n",
              "      <td>3.675000</td>\n",
              "      <td>0.240000</td>\n",
              "      <td>3.730000</td>\n",
              "      <td>112.500000</td>\n",
              "      <td>112.550000</td>\n",
              "      <td>3.925000</td>\n",
              "      <td>101.500000</td>\n",
              "      <td>0.268500</td>\n",
              "      <td>0.382500</td>\n",
              "      <td>0.570000</td>\n",
              "      <td>0.531500</td>\n",
              "      <td>12.800000</td>\n",
              "      <td>24.300000</td>\n",
              "      <td>0.210000</td>\n",
              "      <td>0.53300</td>\n",
              "      <td>13.250000</td>\n",
              "      <td>77.950000</td>\n",
              "      <td>0.20600</td>\n",
              "      <td>786212.000000</td>\n",
              "      <td>19176.000000</td>\n",
              "    </tr>\n",
              "    <tr>\n",
              "      <th>max</th>\n",
              "      <td>30.000000</td>\n",
              "      <td>29.200000</td>\n",
              "      <td>60.000000</td>\n",
              "      <td>65.000000</td>\n",
              "      <td>61.000000</td>\n",
              "      <td>63.000000</td>\n",
              "      <td>8.870000</td>\n",
              "      <td>0.730000</td>\n",
              "      <td>8.040000</td>\n",
              "      <td>115.900000</td>\n",
              "      <td>117.600000</td>\n",
              "      <td>8.600000</td>\n",
              "      <td>103.900000</td>\n",
              "      <td>0.326000</td>\n",
              "      <td>0.519000</td>\n",
              "      <td>0.596000</td>\n",
              "      <td>0.565000</td>\n",
              "      <td>14.300000</td>\n",
              "      <td>26.600000</td>\n",
              "      <td>0.258000</td>\n",
              "      <td>0.56400</td>\n",
              "      <td>14.400000</td>\n",
              "      <td>80.300000</td>\n",
              "      <td>0.23700</td>\n",
              "      <td>838342.000000</td>\n",
              "      <td>20447.000000</td>\n",
              "    </tr>\n",
              "  </tbody>\n",
              "</table>\n",
              "</div>"
            ],
            "text/plain": [
              "              Rk        Age          W  ...  FT/FGA.1        Attend.     Attend./G\n",
              "count  30.000000  31.000000  30.000000  ...  31.00000      31.000000     31.000000\n",
              "mean   15.500000  26.280645  41.000000  ...   0.19829  732148.225806  17851.612903\n",
              "std     8.803408   1.343731  12.028701  ...   0.01730   66124.690768   1614.137596\n",
              "min     1.000000  23.400000  17.000000  ...   0.16200  612597.000000  14941.000000\n",
              "25%     8.250000  25.550000  33.000000  ...   0.18950  682940.000000  16657.000000\n",
              "50%    15.500000  26.400000  41.500000  ...   0.19500  740392.000000  18058.000000\n",
              "75%    22.750000  27.000000  49.750000  ...   0.20600  786212.000000  19176.000000\n",
              "max    30.000000  29.200000  60.000000  ...   0.23700  838342.000000  20447.000000\n",
              "\n",
              "[8 rows x 26 columns]"
            ]
          },
          "metadata": {
            "tags": []
          },
          "execution_count": 10
        }
      ]
    },
    {
      "cell_type": "markdown",
      "metadata": {
        "id": "LeCjaERDvTvr"
      },
      "source": [
        "**INITIAL PREPROCESSING AND CLEANING:**"
      ]
    },
    {
      "cell_type": "markdown",
      "metadata": {
        "id": "WUnJ7JG60ghL"
      },
      "source": [
        "Now we will discard any of the rows that we do not believe we will need at this point."
      ]
    },
    {
      "cell_type": "code",
      "metadata": {
        "colab": {
          "base_uri": "https://localhost:8080/",
          "height": 1000
        },
        "id": "HngpykA60n4U",
        "outputId": "1d55fcb0-b45f-4922-9a34-1f29d536ab18"
      },
      "source": [
        "df_misc.drop(columns=['Rk','Age','MOV','SOS','SRS','NRtg','FTr','3PAr','TS%','eFG%','TOV%','ORB%','FT/FGA','eFG%.1','TOV%.1','DRB%','FT/FGA.1','Arena','Attend.','Attend./G'])"
      ],
      "execution_count": null,
      "outputs": [
        {
          "output_type": "execute_result",
          "data": {
            "text/html": [
              "<div>\n",
              "<style scoped>\n",
              "    .dataframe tbody tr th:only-of-type {\n",
              "        vertical-align: middle;\n",
              "    }\n",
              "\n",
              "    .dataframe tbody tr th {\n",
              "        vertical-align: top;\n",
              "    }\n",
              "\n",
              "    .dataframe thead th {\n",
              "        text-align: right;\n",
              "    }\n",
              "</style>\n",
              "<table border=\"1\" class=\"dataframe\">\n",
              "  <thead>\n",
              "    <tr style=\"text-align: right;\">\n",
              "      <th></th>\n",
              "      <th>Team</th>\n",
              "      <th>W</th>\n",
              "      <th>L</th>\n",
              "      <th>PW</th>\n",
              "      <th>PL</th>\n",
              "      <th>ORtg</th>\n",
              "      <th>DRtg</th>\n",
              "      <th>Pace</th>\n",
              "    </tr>\n",
              "  </thead>\n",
              "  <tbody>\n",
              "    <tr>\n",
              "      <th>0</th>\n",
              "      <td>Milwaukee Bucks*</td>\n",
              "      <td>60.0</td>\n",
              "      <td>22.0</td>\n",
              "      <td>61</td>\n",
              "      <td>21</td>\n",
              "      <td>113.8</td>\n",
              "      <td>105.2</td>\n",
              "      <td>103.3</td>\n",
              "    </tr>\n",
              "    <tr>\n",
              "      <th>1</th>\n",
              "      <td>Golden State Warriors*</td>\n",
              "      <td>57.0</td>\n",
              "      <td>25.0</td>\n",
              "      <td>56</td>\n",
              "      <td>26</td>\n",
              "      <td>115.9</td>\n",
              "      <td>109.5</td>\n",
              "      <td>100.9</td>\n",
              "    </tr>\n",
              "    <tr>\n",
              "      <th>2</th>\n",
              "      <td>Toronto Raptors*</td>\n",
              "      <td>58.0</td>\n",
              "      <td>24.0</td>\n",
              "      <td>56</td>\n",
              "      <td>26</td>\n",
              "      <td>113.1</td>\n",
              "      <td>107.1</td>\n",
              "      <td>100.2</td>\n",
              "    </tr>\n",
              "    <tr>\n",
              "      <th>3</th>\n",
              "      <td>Utah Jazz*</td>\n",
              "      <td>50.0</td>\n",
              "      <td>32.0</td>\n",
              "      <td>54</td>\n",
              "      <td>28</td>\n",
              "      <td>110.9</td>\n",
              "      <td>105.7</td>\n",
              "      <td>100.3</td>\n",
              "    </tr>\n",
              "    <tr>\n",
              "      <th>4</th>\n",
              "      <td>Houston Rockets*</td>\n",
              "      <td>53.0</td>\n",
              "      <td>29.0</td>\n",
              "      <td>53</td>\n",
              "      <td>29</td>\n",
              "      <td>115.5</td>\n",
              "      <td>110.7</td>\n",
              "      <td>97.9</td>\n",
              "    </tr>\n",
              "    <tr>\n",
              "      <th>5</th>\n",
              "      <td>Portland Trail Blazers*</td>\n",
              "      <td>53.0</td>\n",
              "      <td>29.0</td>\n",
              "      <td>51</td>\n",
              "      <td>31</td>\n",
              "      <td>114.7</td>\n",
              "      <td>110.5</td>\n",
              "      <td>99.1</td>\n",
              "    </tr>\n",
              "    <tr>\n",
              "      <th>6</th>\n",
              "      <td>Denver Nuggets*</td>\n",
              "      <td>54.0</td>\n",
              "      <td>28.0</td>\n",
              "      <td>51</td>\n",
              "      <td>31</td>\n",
              "      <td>113.0</td>\n",
              "      <td>108.9</td>\n",
              "      <td>97.7</td>\n",
              "    </tr>\n",
              "    <tr>\n",
              "      <th>7</th>\n",
              "      <td>Boston Celtics*</td>\n",
              "      <td>49.0</td>\n",
              "      <td>33.0</td>\n",
              "      <td>52</td>\n",
              "      <td>30</td>\n",
              "      <td>112.2</td>\n",
              "      <td>107.8</td>\n",
              "      <td>99.6</td>\n",
              "    </tr>\n",
              "    <tr>\n",
              "      <th>8</th>\n",
              "      <td>Oklahoma City Thunder*</td>\n",
              "      <td>49.0</td>\n",
              "      <td>33.0</td>\n",
              "      <td>50</td>\n",
              "      <td>32</td>\n",
              "      <td>110.3</td>\n",
              "      <td>107.0</td>\n",
              "      <td>102.8</td>\n",
              "    </tr>\n",
              "    <tr>\n",
              "      <th>9</th>\n",
              "      <td>Indiana Pacers*</td>\n",
              "      <td>48.0</td>\n",
              "      <td>34.0</td>\n",
              "      <td>50</td>\n",
              "      <td>32</td>\n",
              "      <td>109.9</td>\n",
              "      <td>106.5</td>\n",
              "      <td>98.1</td>\n",
              "    </tr>\n",
              "    <tr>\n",
              "      <th>10</th>\n",
              "      <td>Philadelphia 76ers*</td>\n",
              "      <td>51.0</td>\n",
              "      <td>31.0</td>\n",
              "      <td>48</td>\n",
              "      <td>34</td>\n",
              "      <td>112.6</td>\n",
              "      <td>110.0</td>\n",
              "      <td>101.6</td>\n",
              "    </tr>\n",
              "    <tr>\n",
              "      <th>11</th>\n",
              "      <td>San Antonio Spurs*</td>\n",
              "      <td>48.0</td>\n",
              "      <td>34.0</td>\n",
              "      <td>45</td>\n",
              "      <td>37</td>\n",
              "      <td>112.9</td>\n",
              "      <td>111.2</td>\n",
              "      <td>98.3</td>\n",
              "    </tr>\n",
              "    <tr>\n",
              "      <th>12</th>\n",
              "      <td>Los Angeles Clippers*</td>\n",
              "      <td>48.0</td>\n",
              "      <td>34.0</td>\n",
              "      <td>43</td>\n",
              "      <td>39</td>\n",
              "      <td>112.4</td>\n",
              "      <td>111.5</td>\n",
              "      <td>101.7</td>\n",
              "    </tr>\n",
              "    <tr>\n",
              "      <th>13</th>\n",
              "      <td>Orlando Magic*</td>\n",
              "      <td>42.0</td>\n",
              "      <td>40.0</td>\n",
              "      <td>43</td>\n",
              "      <td>39</td>\n",
              "      <td>108.9</td>\n",
              "      <td>108.1</td>\n",
              "      <td>98.1</td>\n",
              "    </tr>\n",
              "    <tr>\n",
              "      <th>14</th>\n",
              "      <td>Brooklyn Nets*</td>\n",
              "      <td>42.0</td>\n",
              "      <td>40.0</td>\n",
              "      <td>41</td>\n",
              "      <td>41</td>\n",
              "      <td>109.6</td>\n",
              "      <td>109.7</td>\n",
              "      <td>100.8</td>\n",
              "    </tr>\n",
              "    <tr>\n",
              "      <th>15</th>\n",
              "      <td>Miami Heat</td>\n",
              "      <td>39.0</td>\n",
              "      <td>43.0</td>\n",
              "      <td>40</td>\n",
              "      <td>42</td>\n",
              "      <td>107.3</td>\n",
              "      <td>107.6</td>\n",
              "      <td>98.2</td>\n",
              "    </tr>\n",
              "    <tr>\n",
              "      <th>16</th>\n",
              "      <td>Detroit Pistons*</td>\n",
              "      <td>41.0</td>\n",
              "      <td>41.0</td>\n",
              "      <td>40</td>\n",
              "      <td>42</td>\n",
              "      <td>109.0</td>\n",
              "      <td>109.2</td>\n",
              "      <td>97.4</td>\n",
              "    </tr>\n",
              "    <tr>\n",
              "      <th>17</th>\n",
              "      <td>Sacramento Kings</td>\n",
              "      <td>39.0</td>\n",
              "      <td>43.0</td>\n",
              "      <td>38</td>\n",
              "      <td>44</td>\n",
              "      <td>110.4</td>\n",
              "      <td>111.5</td>\n",
              "      <td>103.1</td>\n",
              "    </tr>\n",
              "    <tr>\n",
              "      <th>18</th>\n",
              "      <td>Dallas Mavericks</td>\n",
              "      <td>33.0</td>\n",
              "      <td>49.0</td>\n",
              "      <td>38</td>\n",
              "      <td>44</td>\n",
              "      <td>109.4</td>\n",
              "      <td>110.7</td>\n",
              "      <td>99.0</td>\n",
              "    </tr>\n",
              "    <tr>\n",
              "      <th>19</th>\n",
              "      <td>Minnesota Timberwolves</td>\n",
              "      <td>36.0</td>\n",
              "      <td>46.0</td>\n",
              "      <td>37</td>\n",
              "      <td>45</td>\n",
              "      <td>111.4</td>\n",
              "      <td>112.9</td>\n",
              "      <td>100.2</td>\n",
              "    </tr>\n",
              "    <tr>\n",
              "      <th>20</th>\n",
              "      <td>New Orleans Pelicans</td>\n",
              "      <td>33.0</td>\n",
              "      <td>49.0</td>\n",
              "      <td>38</td>\n",
              "      <td>44</td>\n",
              "      <td>111.4</td>\n",
              "      <td>112.6</td>\n",
              "      <td>103.3</td>\n",
              "    </tr>\n",
              "    <tr>\n",
              "      <th>21</th>\n",
              "      <td>Charlotte Hornets</td>\n",
              "      <td>39.0</td>\n",
              "      <td>43.0</td>\n",
              "      <td>38</td>\n",
              "      <td>44</td>\n",
              "      <td>111.4</td>\n",
              "      <td>112.5</td>\n",
              "      <td>98.7</td>\n",
              "    </tr>\n",
              "    <tr>\n",
              "      <th>22</th>\n",
              "      <td>Los Angeles Lakers</td>\n",
              "      <td>37.0</td>\n",
              "      <td>45.0</td>\n",
              "      <td>37</td>\n",
              "      <td>45</td>\n",
              "      <td>107.8</td>\n",
              "      <td>109.5</td>\n",
              "      <td>103.2</td>\n",
              "    </tr>\n",
              "    <tr>\n",
              "      <th>23</th>\n",
              "      <td>Memphis Grizzlies</td>\n",
              "      <td>33.0</td>\n",
              "      <td>49.0</td>\n",
              "      <td>34</td>\n",
              "      <td>48</td>\n",
              "      <td>106.1</td>\n",
              "      <td>108.8</td>\n",
              "      <td>96.6</td>\n",
              "    </tr>\n",
              "    <tr>\n",
              "      <th>24</th>\n",
              "      <td>Washington Wizards</td>\n",
              "      <td>32.0</td>\n",
              "      <td>50.0</td>\n",
              "      <td>34</td>\n",
              "      <td>48</td>\n",
              "      <td>111.1</td>\n",
              "      <td>113.9</td>\n",
              "      <td>101.4</td>\n",
              "    </tr>\n",
              "    <tr>\n",
              "      <th>25</th>\n",
              "      <td>Atlanta Hawks</td>\n",
              "      <td>29.0</td>\n",
              "      <td>53.0</td>\n",
              "      <td>27</td>\n",
              "      <td>55</td>\n",
              "      <td>108.1</td>\n",
              "      <td>113.9</td>\n",
              "      <td>103.9</td>\n",
              "    </tr>\n",
              "    <tr>\n",
              "      <th>26</th>\n",
              "      <td>Chicago Bulls</td>\n",
              "      <td>22.0</td>\n",
              "      <td>60.0</td>\n",
              "      <td>21</td>\n",
              "      <td>61</td>\n",
              "      <td>104.8</td>\n",
              "      <td>113.2</td>\n",
              "      <td>99.0</td>\n",
              "    </tr>\n",
              "    <tr>\n",
              "      <th>27</th>\n",
              "      <td>Phoenix Suns</td>\n",
              "      <td>19.0</td>\n",
              "      <td>63.0</td>\n",
              "      <td>19</td>\n",
              "      <td>63</td>\n",
              "      <td>105.9</td>\n",
              "      <td>115.1</td>\n",
              "      <td>100.5</td>\n",
              "    </tr>\n",
              "    <tr>\n",
              "      <th>28</th>\n",
              "      <td>New York Knicks</td>\n",
              "      <td>17.0</td>\n",
              "      <td>65.0</td>\n",
              "      <td>19</td>\n",
              "      <td>63</td>\n",
              "      <td>104.5</td>\n",
              "      <td>113.7</td>\n",
              "      <td>99.6</td>\n",
              "    </tr>\n",
              "    <tr>\n",
              "      <th>29</th>\n",
              "      <td>Cleveland Cavaliers</td>\n",
              "      <td>19.0</td>\n",
              "      <td>63.0</td>\n",
              "      <td>19</td>\n",
              "      <td>63</td>\n",
              "      <td>107.7</td>\n",
              "      <td>117.6</td>\n",
              "      <td>96.6</td>\n",
              "    </tr>\n",
              "    <tr>\n",
              "      <th>30</th>\n",
              "      <td>League Average</td>\n",
              "      <td>NaN</td>\n",
              "      <td>NaN</td>\n",
              "      <td>41</td>\n",
              "      <td>41</td>\n",
              "      <td>110.4</td>\n",
              "      <td>110.4</td>\n",
              "      <td>100.0</td>\n",
              "    </tr>\n",
              "  </tbody>\n",
              "</table>\n",
              "</div>"
            ],
            "text/plain": [
              "                       Team     W     L  PW  PL   ORtg   DRtg   Pace\n",
              "0          Milwaukee Bucks*  60.0  22.0  61  21  113.8  105.2  103.3\n",
              "1    Golden State Warriors*  57.0  25.0  56  26  115.9  109.5  100.9\n",
              "2          Toronto Raptors*  58.0  24.0  56  26  113.1  107.1  100.2\n",
              "3                Utah Jazz*  50.0  32.0  54  28  110.9  105.7  100.3\n",
              "4          Houston Rockets*  53.0  29.0  53  29  115.5  110.7   97.9\n",
              "5   Portland Trail Blazers*  53.0  29.0  51  31  114.7  110.5   99.1\n",
              "6           Denver Nuggets*  54.0  28.0  51  31  113.0  108.9   97.7\n",
              "7           Boston Celtics*  49.0  33.0  52  30  112.2  107.8   99.6\n",
              "8    Oklahoma City Thunder*  49.0  33.0  50  32  110.3  107.0  102.8\n",
              "9           Indiana Pacers*  48.0  34.0  50  32  109.9  106.5   98.1\n",
              "10      Philadelphia 76ers*  51.0  31.0  48  34  112.6  110.0  101.6\n",
              "11       San Antonio Spurs*  48.0  34.0  45  37  112.9  111.2   98.3\n",
              "12    Los Angeles Clippers*  48.0  34.0  43  39  112.4  111.5  101.7\n",
              "13           Orlando Magic*  42.0  40.0  43  39  108.9  108.1   98.1\n",
              "14           Brooklyn Nets*  42.0  40.0  41  41  109.6  109.7  100.8\n",
              "15               Miami Heat  39.0  43.0  40  42  107.3  107.6   98.2\n",
              "16         Detroit Pistons*  41.0  41.0  40  42  109.0  109.2   97.4\n",
              "17         Sacramento Kings  39.0  43.0  38  44  110.4  111.5  103.1\n",
              "18         Dallas Mavericks  33.0  49.0  38  44  109.4  110.7   99.0\n",
              "19   Minnesota Timberwolves  36.0  46.0  37  45  111.4  112.9  100.2\n",
              "20     New Orleans Pelicans  33.0  49.0  38  44  111.4  112.6  103.3\n",
              "21        Charlotte Hornets  39.0  43.0  38  44  111.4  112.5   98.7\n",
              "22       Los Angeles Lakers  37.0  45.0  37  45  107.8  109.5  103.2\n",
              "23        Memphis Grizzlies  33.0  49.0  34  48  106.1  108.8   96.6\n",
              "24       Washington Wizards  32.0  50.0  34  48  111.1  113.9  101.4\n",
              "25            Atlanta Hawks  29.0  53.0  27  55  108.1  113.9  103.9\n",
              "26            Chicago Bulls  22.0  60.0  21  61  104.8  113.2   99.0\n",
              "27             Phoenix Suns  19.0  63.0  19  63  105.9  115.1  100.5\n",
              "28          New York Knicks  17.0  65.0  19  63  104.5  113.7   99.6\n",
              "29      Cleveland Cavaliers  19.0  63.0  19  63  107.7  117.6   96.6\n",
              "30           League Average   NaN   NaN  41  41  110.4  110.4  100.0"
            ]
          },
          "metadata": {
            "tags": []
          },
          "execution_count": 11
        }
      ]
    },
    {
      "cell_type": "markdown",
      "metadata": {
        "id": "xGLX1GGk32Bm"
      },
      "source": [
        "**Data Fields**\r\n",
        "\r\n",
        "*   *Date* - The day on which two NBA team played one another\r\n",
        "*   *Visitor* - Visiting team, i.e. the opponents\r\n",
        "*   *V_PTS* - Visiting team points\r\n",
        "*   *Home* - Home team, i.e. the host team\r\n",
        "*   *H_PTS* - Home team points\r\n",
        "*   *Team* - NBA team name\r\n",
        "*   *W* - Wins\r\n",
        "*   *L* - Loses\r\n",
        "*   *PW* - Predicted wins for the season \r\n",
        "*   *PL* - Predicted losses for the season\r\n",
        "*   *ORtg* - Offensive team rating\r\n",
        "*   *DRtg* - Defensive team rating\r\n",
        "*   *Pace* - The amount of possessions per game (48 minutes)"
      ]
    },
    {
      "cell_type": "markdown",
      "metadata": {
        "id": "nZjuWTdf325Y"
      },
      "source": [
        "# EXPLORATION & VISUALIZATION"
      ]
    },
    {
      "cell_type": "markdown",
      "metadata": {
        "id": "i5ivezEVGNsP"
      },
      "source": [
        "***Barplot***\r\n",
        "\r\n",
        "Used to visually represent the different datatypes used in each dataset"
      ]
    },
    {
      "cell_type": "code",
      "metadata": {
        "colab": {
          "base_uri": "https://localhost:8080/",
          "height": 314
        },
        "id": "ghIdb3YcEpw2",
        "outputId": "8063d077-027a-4dbd-e8d8-7bd19e0ccfd0"
      },
      "source": [
        "# Win & Loss dataset\r\n",
        "win_loss_barplot = df_win_lose.dtypes.value_counts().plot.bar()\r\n",
        "plt.title(\"18-19 Team Wins & Losses columns by data types\")\r\n",
        "plt.xlabel(\"Datatypes\")\r\n",
        "plt.ylabel(\"Number of columns\")\r\n",
        "plt.xticks(rotation=-45)\r\n",
        "plt.show(win_loss_barplot)"
      ],
      "execution_count": null,
      "outputs": [
        {
          "output_type": "display_data",
          "data": {
            "image/png": "[encoded data removed]",
            "text/plain": [
              "<Figure size 432x288 with 1 Axes>"
            ]
          },
          "metadata": {
            "tags": [],
            "needs_background": "light"
          }
        }
      ]
    },
    {
      "cell_type": "code",
      "metadata": {
        "colab": {
          "base_uri": "https://localhost:8080/",
          "height": 317
        },
        "id": "LAeFXRwcHgXJ",
        "outputId": "4f3d8996-eab1-4b2e-aba2-d54f9e3b5d6e"
      },
      "source": [
        "# Misc stats dataset\r\n",
        "misc_barplot = df_misc.dtypes.value_counts().plot.bar()\r\n",
        "plt.title(\"18-19 Team Miscs. Stats columns by data types\")\r\n",
        "plt.xlabel(\"Datatypes\")\r\n",
        "plt.ylabel(\"Number of columns\")\r\n",
        "plt.xticks(rotation=-45)\r\n",
        "plt.show(win_loss_barplot)"
      ],
      "execution_count": null,
      "outputs": [
        {
          "output_type": "display_data",
          "data": {
            "image/png": "[encoded data removed]",
            "text/plain": [
              "<Figure size 432x288 with 1 Axes>"
            ]
          },
          "metadata": {
            "tags": [],
            "needs_background": "light"
          }
        }
      ]
    },
    {
      "cell_type": "markdown",
      "metadata": {
        "id": "HMla9km26y5h"
      },
      "source": [
        "**Formulas**\r\n",
        "\r\n",
        "Below are some ways that the dataset produced various columns:\r\n",
        "\r\n",
        "*   *PW & PL* - Predicted by comparing the teams average points scored and points allowed to opposing team\r\n",
        "*   *ORtg* - Calculated by estimating the amount of points a single player or the entire team scores per 100 offensive possessions\r\n",
        "*   *DRtg* - Calculated by estimating the amount of points allowed to opposing team per 100 defensive possessions"
      ]
    },
    {
      "cell_type": "markdown",
      "metadata": {
        "id": "VbZgwbEwHdoi"
      },
      "source": [
        "***Pairplot***\r\n",
        "\r\n",
        "First used to analyze our Misc. Stats dataset:\r\n",
        "\r\n",
        "Here we can see the relation between the wins/losses and the predicted wins/loses"
      ]
    },
    {
      "cell_type": "code",
      "metadata": {
        "colab": {
          "base_uri": "https://localhost:8080/",
          "height": 741
        },
        "id": "Y6blOJAEHdYK",
        "outputId": "4d0d5f74-5ca4-4532-94d2-1de54b3d77d3"
      },
      "source": [
        "sns.pairplot(\r\n",
        "    df_misc,\r\n",
        "    vars=['W','PW','L',\"PL\"]\r\n",
        "    )"
      ],
      "execution_count": null,
      "outputs": [
        {
          "output_type": "execute_result",
          "data": {
            "text/plain": [
              "<seaborn.axisgrid.PairGrid at 0x7f71556702d0>"
            ]
          },
          "metadata": {
            "tags": []
          },
          "execution_count": 163
        },
        {
          "output_type": "display_data",
          "data": {
            "image/png": "[encoded data removed]",
            "text/plain": [
              "<Figure size 720x720 with 20 Axes>"
            ]
          },
          "metadata": {
            "tags": []
          }
        }
      ]
    },
    {
      "cell_type": "markdown",
      "metadata": {
        "id": "4i8CsR7uIDbu"
      },
      "source": [
        "Here the pairlot reveals the direct relation between a teams offensive rating and their wins and loses."
      ]
    },
    {
      "cell_type": "code",
      "metadata": {
        "colab": {
          "base_uri": "https://localhost:8080/",
          "height": 212
        },
        "id": "2FusuZcwID5A",
        "outputId": "867169d7-acdf-43da-ca32-50719015c854"
      },
      "source": [
        "sns.pairplot(df_misc,\r\n",
        "             x_vars=['W','L'], \r\n",
        "             y_vars=['Team'],\r\n",
        "             hue='ORtg')"
      ],
      "execution_count": null,
      "outputs": [
        {
          "output_type": "execute_result",
          "data": {
            "text/plain": [
              "<seaborn.axisgrid.PairGrid at 0x7f715e375a50>"
            ]
          },
          "metadata": {
            "tags": []
          },
          "execution_count": 164
        },
        {
          "output_type": "display_data",
          "data": {
            "image/png": "[encoded data removed]",
            "text/plain": [
              "<Figure size 420.6x180 with 2 Axes>"
            ]
          },
          "metadata": {
            "tags": []
          }
        }
      ]
    },
    {
      "cell_type": "markdown",
      "metadata": {
        "id": "_Ak73Fh_IaRZ"
      },
      "source": [
        "The same is done here but we examine the relationship pertaining to a teams defensive rating."
      ]
    },
    {
      "cell_type": "code",
      "metadata": {
        "colab": {
          "base_uri": "https://localhost:8080/",
          "height": 212
        },
        "id": "yA2X7aclIgcL",
        "outputId": "6dfbc7f6-9d44-4136-a4f1-cab9013b85fa"
      },
      "source": [
        "sns.pairplot(df_misc,\r\n",
        "             x_vars=['W','L'], \r\n",
        "             y_vars=['Team'],\r\n",
        "             hue='DRtg')"
      ],
      "execution_count": null,
      "outputs": [
        {
          "output_type": "execute_result",
          "data": {
            "text/plain": [
              "<seaborn.axisgrid.PairGrid at 0x7f715e830dd0>"
            ]
          },
          "metadata": {
            "tags": []
          },
          "execution_count": 165
        },
        {
          "output_type": "display_data",
          "data": {
            "image/png": "[encoded data removed]",
            "text/plain": [
              "<Figure size 430.975x180 with 2 Axes>"
            ]
          },
          "metadata": {
            "tags": []
          }
        }
      ]
    },
    {
      "cell_type": "markdown",
      "metadata": {
        "id": "glhOeph0IoP3"
      },
      "source": [
        ""
      ]
    },
    {
      "cell_type": "markdown",
      "metadata": {
        "id": "cag-MbujFwyM"
      },
      "source": [
        "***Scatterplots***\r\n",
        "\r\n",
        "Scatterplots used to analysize where teams are regarding wins and losses"
      ]
    },
    {
      "cell_type": "code",
      "metadata": {
        "colab": {
          "base_uri": "https://localhost:8080/",
          "height": 302
        },
        "id": "-5BSDzyZERoT",
        "outputId": "e32066f9-55f0-4988-addb-53484c9c7e41"
      },
      "source": [
        "# Scatterplot to display the teams and their wins achieved during 2018-2019 season\r\n",
        "sns.scatterplot(data=df_misc,x='W',y='Team')"
      ],
      "execution_count": null,
      "outputs": [
        {
          "output_type": "execute_result",
          "data": {
            "text/plain": [
              "<matplotlib.axes._subplots.AxesSubplot at 0x7f71555cebd0>"
            ]
          },
          "metadata": {
            "tags": []
          },
          "execution_count": 167
        },
        {
          "output_type": "display_data",
          "data": {
            "image/png": "[encoded data removed]",
            "text/plain": [
              "<Figure size 432x288 with 1 Axes>"
            ]
          },
          "metadata": {
            "tags": []
          }
        }
      ]
    },
    {
      "cell_type": "code",
      "metadata": {
        "colab": {
          "base_uri": "https://localhost:8080/",
          "height": 302
        },
        "id": "YWlTRu7RFmkx",
        "outputId": "7c2a2075-90c2-4ad1-cb13-9737c170ecd7"
      },
      "source": [
        "# Scatterplot to display the teams and their losses during 2018-2019 season\r\n",
        "sns.scatterplot(data=df_misc,x='L',y='Team')"
      ],
      "execution_count": null,
      "outputs": [
        {
          "output_type": "execute_result",
          "data": {
            "text/plain": [
              "<matplotlib.axes._subplots.AxesSubplot at 0x7f715fb62f90>"
            ]
          },
          "metadata": {
            "tags": []
          },
          "execution_count": 168
        },
        {
          "output_type": "display_data",
          "data": {
            "image/png": "[encoded data removed]",
            "text/plain": [
              "<Figure size 432x288 with 1 Axes>"
            ]
          },
          "metadata": {
            "tags": []
          }
        }
      ]
    },
    {
      "cell_type": "markdown",
      "metadata": {
        "id": "woKsSpxuGjmC"
      },
      "source": [
        "When we combine both scatterplots, we can visually see where team wins and loses overlap. This can be interpreted as the teams that were evenly split between wins and losses, i.e. .500 teams."
      ]
    },
    {
      "cell_type": "code",
      "metadata": {
        "colab": {
          "base_uri": "https://localhost:8080/",
          "height": 296
        },
        "id": "C_gXC0pkGj9J",
        "outputId": "6d90ffb7-5f69-45c6-94a6-bd6e78078bf0"
      },
      "source": [
        "# Represented by the orange scatter dots\r\n",
        "sns.scatterplot(data=df_misc,x='W',y='Team')\r\n",
        "# Represented by the blue scatter dots\r\n",
        "sns.scatterplot(data=df_misc,x='L',y='Team')"
      ],
      "execution_count": null,
      "outputs": [
        {
          "output_type": "execute_result",
          "data": {
            "text/plain": [
              "<matplotlib.axes._subplots.AxesSubplot at 0x7f71845f7e90>"
            ]
          },
          "metadata": {
            "tags": []
          },
          "execution_count": 18
        },
        {
          "output_type": "display_data",
          "data": {
            "image/png": "[encoded data removed]",
            "text/plain": [
              "<Figure size 432x288 with 1 Axes>"
            ]
          },
          "metadata": {
            "tags": [],
            "needs_background": "light"
          }
        }
      ]
    },
    {
      "cell_type": "markdown",
      "metadata": {
        "id": "_uWSpDGRJE4H"
      },
      "source": [
        "To further analyze our pairplots, 'size' was applied to produce a more defined look at how successful a team was with a higher offensive rating."
      ]
    },
    {
      "cell_type": "code",
      "metadata": {
        "colab": {
          "base_uri": "https://localhost:8080/",
          "height": 296
        },
        "id": "wQyNXIlWJFdm",
        "outputId": "b6cc5873-0804-4817-d1dd-328b0075e7bd"
      },
      "source": [
        "sns.scatterplot(data=df_misc,x='W',y='Team',hue='ORtg',size='ORtg')"
      ],
      "execution_count": null,
      "outputs": [
        {
          "output_type": "execute_result",
          "data": {
            "text/plain": [
              "<matplotlib.axes._subplots.AxesSubplot at 0x7f718448f910>"
            ]
          },
          "metadata": {
            "tags": []
          },
          "execution_count": 19
        },
        {
          "output_type": "display_data",
          "data": {
            "image/png": "[encoded data removed]",
            "text/plain": [
              "<Figure size 432x288 with 1 Axes>"
            ]
          },
          "metadata": {
            "tags": [],
            "needs_background": "light"
          }
        }
      ]
    },
    {
      "cell_type": "markdown",
      "metadata": {
        "id": "xAqcvQ_mJF3d"
      },
      "source": [
        "The same can be said for a teams defensive rating, as a lower defensive rating number resulted in a better team record."
      ]
    },
    {
      "cell_type": "code",
      "metadata": {
        "colab": {
          "base_uri": "https://localhost:8080/",
          "height": 296
        },
        "id": "VYFdK4LyJGmo",
        "outputId": "83564440-591a-449a-8f79-9b8f3e91066c"
      },
      "source": [
        "sns.scatterplot(data=df_misc,x='W',y='Team',hue='DRtg',size='DRtg')"
      ],
      "execution_count": null,
      "outputs": [
        {
          "output_type": "execute_result",
          "data": {
            "text/plain": [
              "<matplotlib.axes._subplots.AxesSubplot at 0x7f71843d4a90>"
            ]
          },
          "metadata": {
            "tags": []
          },
          "execution_count": 20
        },
        {
          "output_type": "display_data",
          "data": {
            "image/png": "[encoded data removed]",
            "text/plain": [
              "<Figure size 432x288 with 1 Axes>"
            ]
          },
          "metadata": {
            "tags": [],
            "needs_background": "light"
          }
        }
      ]
    },
    {
      "cell_type": "markdown",
      "metadata": {
        "id": "2-PGsw0mL4IM"
      },
      "source": [
        "Now to analyze the Win & Loss dataset:\r\n",
        "\r\n",
        "Below we calculate a new column to be used in a later part of this report."
      ]
    },
    {
      "cell_type": "code",
      "metadata": {
        "id": "bB0mST6g_hJf"
      },
      "source": [
        "# Calculate whether the home team won or not and assign to new column \"HomeWin\"\r\n",
        "df_win_lose[\"HomeWin\"] = df_win_lose[\"V_PTS\"] < df_win_lose[\"H_PTS\"]\r\n",
        "\r\n",
        "#Conver true/false to 1/0, respectively\r\n",
        "df_win_lose['HomeWin'] = df_win_lose['HomeWin'].astype(int)\r\n",
        "\r\n",
        "won_prev = defaultdict(int)\r\n",
        "\r\n",
        "for index, row in df_win_lose.iterrows():\r\n",
        "  home_team = row['Home']\r\n",
        "  visitor_team = row['Visitor']\r\n",
        "  row['HomeLastWin'] = won_prev[home_team]\r\n",
        "  row['VisitorLastWin'] = won_prev[visitor_team]\r\n",
        "\r\n",
        "# Determine whether the home team/visting team won their previous games\r\n",
        "won_prev[home_team] = row['HomeWin']\r\n",
        "won_prev[visitor_team] = not row['HomeWin']"
      ],
      "execution_count": null,
      "outputs": []
    },
    {
      "cell_type": "markdown",
      "metadata": {
        "id": "KqHa2tGwPC9b"
      },
      "source": [
        "These histograms give a small look into the relation between Home points and Vistor points and whether or not it resulted in a win or loss.\r\n",
        "\r\n"
      ]
    },
    {
      "cell_type": "code",
      "metadata": {
        "colab": {
          "base_uri": "https://localhost:8080/",
          "height": 612
        },
        "id": "mYvl4y1IPDZz",
        "outputId": "4e2804c9-3ce7-4436-9549-9d4375546554"
      },
      "source": [
        "df_win_lose.hist(by='HomeWin',\r\n",
        "                 column='H_PTS')\r\n",
        "df_win_lose.hist(by='HomeWin',\r\n",
        "                 column='V_PTS')"
      ],
      "execution_count": null,
      "outputs": [
        {
          "output_type": "execute_result",
          "data": {
            "text/plain": [
              "array([<matplotlib.axes._subplots.AxesSubplot object at 0x7f715d76a110>,\n",
              "       <matplotlib.axes._subplots.AxesSubplot object at 0x7f715d79cc50>],\n",
              "      dtype=object)"
            ]
          },
          "metadata": {
            "tags": []
          },
          "execution_count": 73
        },
        {
          "output_type": "display_data",
          "data": {
            "image/png": "[encoded data removed]",
            "text/plain": [
              "<Figure size 432x288 with 2 Axes>"
            ]
          },
          "metadata": {
            "tags": [],
            "needs_background": "light"
          }
        },
        {
          "output_type": "display_data",
          "data": {
            "image/png": "[encoded data removed]",
            "text/plain": [
              "<Figure size 432x288 with 2 Axes>"
            ]
          },
          "metadata": {
            "tags": [],
            "needs_background": "light"
          }
        }
      ]
    },
    {
      "cell_type": "markdown",
      "metadata": {
        "id": "VcueGVj1L5VR"
      },
      "source": [
        "Below we cannot really conclude anything other than that each team has won and loss at home. \r\n",
        "\r\n",
        "This still will be something we can use when predicting the outcomes of games.\r\n",
        "\r\n"
      ]
    },
    {
      "cell_type": "code",
      "metadata": {
        "colab": {
          "base_uri": "https://localhost:8080/",
          "height": 318
        },
        "id": "tYsSjywjCEey",
        "outputId": "05ebf9c5-11ca-4a7e-8811-c6250f51302f"
      },
      "source": [
        "sns.scatterplot(data=df_win_lose,x='HomeWin',y='Home')\r\n",
        "sns.scatterplot(data=df_win_lose,x='HomeWin',y='Visitor')\r\n",
        "plt.title('Home wins by Home/Visitor')"
      ],
      "execution_count": null,
      "outputs": [
        {
          "output_type": "execute_result",
          "data": {
            "text/plain": [
              "Text(0.5, 1.0, 'Home wins by Home/Visitor')"
            ]
          },
          "metadata": {
            "tags": []
          },
          "execution_count": 170
        },
        {
          "output_type": "display_data",
          "data": {
            "image/png": "[encoded data removed]",
            "text/plain": [
              "<Figure size 432x288 with 1 Axes>"
            ]
          },
          "metadata": {
            "tags": []
          }
        }
      ]
    },
    {
      "cell_type": "markdown",
      "metadata": {
        "id": "lXitGNQCTWLh"
      },
      "source": [
        "***Boxplot***\r\n",
        "\r\n",
        "Here is a correlation between the home team points scored and whether or not the home team won.\r\n",
        "\r\n",
        "The next boxplots is meant to show the correlation between the visitor team points and whether or not the home team won."
      ]
    },
    {
      "cell_type": "code",
      "metadata": {
        "colab": {
          "base_uri": "https://localhost:8080/",
          "height": 318
        },
        "id": "qoUdJREEU9i8",
        "outputId": "1b766e12-2d37-410d-df38-cbc46c91acff"
      },
      "source": [
        "sns.boxplot(x='HomeWin',y='H_PTS',hue='HomeWin',data=df_win_lose,palette='pastel')\r\n",
        "plt.legend(loc='center',title='Wins and Losses')\r\n",
        "plt.title('Home wins by home points scored')"
      ],
      "execution_count": null,
      "outputs": [
        {
          "output_type": "execute_result",
          "data": {
            "text/plain": [
              "Text(0.5, 1.0, 'Home wins by home points scored')"
            ]
          },
          "metadata": {
            "tags": []
          },
          "execution_count": 171
        },
        {
          "output_type": "display_data",
          "data": {
            "image/png": "[encoded data removed]",
            "text/plain": [
              "<Figure size 432x288 with 1 Axes>"
            ]
          },
          "metadata": {
            "tags": []
          }
        }
      ]
    },
    {
      "cell_type": "markdown",
      "metadata": {
        "id": "ecZubnYQdD6Y"
      },
      "source": [
        "We can see from the above boxplot that the average score between 115 and 125 typically resulted in a home team win, with a mean of 120. The home team typically loss if they scored between 100 and 115, with a mean of 110.\r\n",
        "\r\n",
        "A couple of interesting outliers observed was a home team scored 160 points in a game and still loss. Also a team scored lowed that 90 points and still eneded up winning a game."
      ]
    },
    {
      "cell_type": "code",
      "metadata": {
        "colab": {
          "base_uri": "https://localhost:8080/",
          "height": 318
        },
        "id": "cMVhk4_aU-_V",
        "outputId": "8072008e-b312-421c-d28b-f4484fbae5f6"
      },
      "source": [
        "sns.boxplot(x='HomeWin',y='V_PTS',hue='HomeWin',data=df_win_lose,palette='pastel')\r\n",
        "plt.legend(loc='center',title='Wins and Losses')\r\n",
        "plt.title('Home wins by visitor points scored')"
      ],
      "execution_count": null,
      "outputs": [
        {
          "output_type": "execute_result",
          "data": {
            "text/plain": [
              "Text(0.5, 1.0, 'Home wins by visitor points scored')"
            ]
          },
          "metadata": {
            "tags": []
          },
          "execution_count": 172
        },
        {
          "output_type": "display_data",
          "data": {
            "image/png": "[encoded data removed]",
            "text/plain": [
              "<Figure size 432x288 with 1 Axes>"
            ]
          },
          "metadata": {
            "tags": []
          }
        }
      ]
    },
    {
      "cell_type": "markdown",
      "metadata": {
        "id": "Xw2pjx5Hear9"
      },
      "source": [
        "Here, the amount visitors typically resulted in a win for them was between 115 points and 125, with a mean of about 118. The home team usually won if the visiting team scored 100 and 115, with a mean of 110."
      ]
    },
    {
      "cell_type": "markdown",
      "metadata": {
        "id": "0y4N_h-if2uG"
      },
      "source": [
        "***Violin plot***\r\n"
      ]
    },
    {
      "cell_type": "code",
      "metadata": {
        "colab": {
          "base_uri": "https://localhost:8080/",
          "height": 302
        },
        "id": "3rf7PTPITVmr",
        "outputId": "976fd309-14b7-4c9e-8e18-895237160c31"
      },
      "source": [
        "# # Home wins by amount home points scored\r\n",
        "sns.violinplot(y='H_PTS',x='HomeWin',data=df_win_lose,)"
      ],
      "execution_count": null,
      "outputs": [
        {
          "output_type": "execute_result",
          "data": {
            "text/plain": [
              "<matplotlib.axes._subplots.AxesSubplot at 0x7f715fabda50>"
            ]
          },
          "metadata": {
            "tags": []
          },
          "execution_count": 173
        },
        {
          "output_type": "display_data",
          "data": {
            "image/png": "[encoded data removed]",
            "text/plain": [
              "<Figure size 432x288 with 1 Axes>"
            ]
          },
          "metadata": {
            "tags": []
          }
        }
      ]
    },
    {
      "cell_type": "code",
      "metadata": {
        "colab": {
          "base_uri": "https://localhost:8080/",
          "height": 302
        },
        "id": "3uUKOtWJhwyI",
        "outputId": "bbe9e810-d419-480d-ce60-56db147c785c"
      },
      "source": [
        "# Home wins by amount visting points scored\r\n",
        "sns.violinplot(y='V_PTS',x='HomeWin',data=df_win_lose)"
      ],
      "execution_count": null,
      "outputs": [
        {
          "output_type": "execute_result",
          "data": {
            "text/plain": [
              "<matplotlib.axes._subplots.AxesSubplot at 0x7f715de07b50>"
            ]
          },
          "metadata": {
            "tags": []
          },
          "execution_count": 174
        },
        {
          "output_type": "display_data",
          "data": {
            "image/png": "[encoded data removed]",
            "text/plain": [
              "<Figure size 432x288 with 1 Axes>"
            ]
          },
          "metadata": {
            "tags": []
          }
        }
      ]
    },
    {
      "cell_type": "markdown",
      "metadata": {
        "id": "pP48HLqoit4W"
      },
      "source": [
        "Both of these violin plots help reinforce the amount of points typically scored in wins and losses."
      ]
    },
    {
      "cell_type": "markdown",
      "metadata": {
        "id": "0EuzR8ELjuSb"
      },
      "source": [
        "***Final preprocessing and cleaning***\r\n",
        "\r\n",
        "After exploring the data more in depth, there are a few more features we will no use for the models used in predicting wins and losses."
      ]
    },
    {
      "cell_type": "code",
      "metadata": {
        "id": "BFdyFxSQjt99",
        "colab": {
          "base_uri": "https://localhost:8080/",
          "height": 979
        },
        "outputId": "3bb0d778-b3db-4653-fa2b-b6a0b024e710"
      },
      "source": [
        "# Drop unused features and row - League Average\r\n",
        "df_misc.drop(index=30,columns=['Rk','Age','PW','PL','MOV','SOS','SRS','NRtg','Pace','FTr','3PAr','TS%','eFG%','TOV%','ORB%','FT/FGA','eFG%.1','TOV%.1','DRB%','FT/FGA.1','Arena','Attend.','Attend./G'])"
      ],
      "execution_count": null,
      "outputs": [
        {
          "output_type": "execute_result",
          "data": {
            "text/html": [
              "<div>\n",
              "<style scoped>\n",
              "    .dataframe tbody tr th:only-of-type {\n",
              "        vertical-align: middle;\n",
              "    }\n",
              "\n",
              "    .dataframe tbody tr th {\n",
              "        vertical-align: top;\n",
              "    }\n",
              "\n",
              "    .dataframe thead th {\n",
              "        text-align: right;\n",
              "    }\n",
              "</style>\n",
              "<table border=\"1\" class=\"dataframe\">\n",
              "  <thead>\n",
              "    <tr style=\"text-align: right;\">\n",
              "      <th></th>\n",
              "      <th>Team</th>\n",
              "      <th>W</th>\n",
              "      <th>L</th>\n",
              "      <th>ORtg</th>\n",
              "      <th>DRtg</th>\n",
              "    </tr>\n",
              "  </thead>\n",
              "  <tbody>\n",
              "    <tr>\n",
              "      <th>0</th>\n",
              "      <td>Milwaukee Bucks*</td>\n",
              "      <td>60.0</td>\n",
              "      <td>22.0</td>\n",
              "      <td>113.8</td>\n",
              "      <td>105.2</td>\n",
              "    </tr>\n",
              "    <tr>\n",
              "      <th>1</th>\n",
              "      <td>Golden State Warriors*</td>\n",
              "      <td>57.0</td>\n",
              "      <td>25.0</td>\n",
              "      <td>115.9</td>\n",
              "      <td>109.5</td>\n",
              "    </tr>\n",
              "    <tr>\n",
              "      <th>2</th>\n",
              "      <td>Toronto Raptors*</td>\n",
              "      <td>58.0</td>\n",
              "      <td>24.0</td>\n",
              "      <td>113.1</td>\n",
              "      <td>107.1</td>\n",
              "    </tr>\n",
              "    <tr>\n",
              "      <th>3</th>\n",
              "      <td>Utah Jazz*</td>\n",
              "      <td>50.0</td>\n",
              "      <td>32.0</td>\n",
              "      <td>110.9</td>\n",
              "      <td>105.7</td>\n",
              "    </tr>\n",
              "    <tr>\n",
              "      <th>4</th>\n",
              "      <td>Houston Rockets*</td>\n",
              "      <td>53.0</td>\n",
              "      <td>29.0</td>\n",
              "      <td>115.5</td>\n",
              "      <td>110.7</td>\n",
              "    </tr>\n",
              "    <tr>\n",
              "      <th>5</th>\n",
              "      <td>Portland Trail Blazers*</td>\n",
              "      <td>53.0</td>\n",
              "      <td>29.0</td>\n",
              "      <td>114.7</td>\n",
              "      <td>110.5</td>\n",
              "    </tr>\n",
              "    <tr>\n",
              "      <th>6</th>\n",
              "      <td>Denver Nuggets*</td>\n",
              "      <td>54.0</td>\n",
              "      <td>28.0</td>\n",
              "      <td>113.0</td>\n",
              "      <td>108.9</td>\n",
              "    </tr>\n",
              "    <tr>\n",
              "      <th>7</th>\n",
              "      <td>Boston Celtics*</td>\n",
              "      <td>49.0</td>\n",
              "      <td>33.0</td>\n",
              "      <td>112.2</td>\n",
              "      <td>107.8</td>\n",
              "    </tr>\n",
              "    <tr>\n",
              "      <th>8</th>\n",
              "      <td>Oklahoma City Thunder*</td>\n",
              "      <td>49.0</td>\n",
              "      <td>33.0</td>\n",
              "      <td>110.3</td>\n",
              "      <td>107.0</td>\n",
              "    </tr>\n",
              "    <tr>\n",
              "      <th>9</th>\n",
              "      <td>Indiana Pacers*</td>\n",
              "      <td>48.0</td>\n",
              "      <td>34.0</td>\n",
              "      <td>109.9</td>\n",
              "      <td>106.5</td>\n",
              "    </tr>\n",
              "    <tr>\n",
              "      <th>10</th>\n",
              "      <td>Philadelphia 76ers*</td>\n",
              "      <td>51.0</td>\n",
              "      <td>31.0</td>\n",
              "      <td>112.6</td>\n",
              "      <td>110.0</td>\n",
              "    </tr>\n",
              "    <tr>\n",
              "      <th>11</th>\n",
              "      <td>San Antonio Spurs*</td>\n",
              "      <td>48.0</td>\n",
              "      <td>34.0</td>\n",
              "      <td>112.9</td>\n",
              "      <td>111.2</td>\n",
              "    </tr>\n",
              "    <tr>\n",
              "      <th>12</th>\n",
              "      <td>Los Angeles Clippers*</td>\n",
              "      <td>48.0</td>\n",
              "      <td>34.0</td>\n",
              "      <td>112.4</td>\n",
              "      <td>111.5</td>\n",
              "    </tr>\n",
              "    <tr>\n",
              "      <th>13</th>\n",
              "      <td>Orlando Magic*</td>\n",
              "      <td>42.0</td>\n",
              "      <td>40.0</td>\n",
              "      <td>108.9</td>\n",
              "      <td>108.1</td>\n",
              "    </tr>\n",
              "    <tr>\n",
              "      <th>14</th>\n",
              "      <td>Brooklyn Nets*</td>\n",
              "      <td>42.0</td>\n",
              "      <td>40.0</td>\n",
              "      <td>109.6</td>\n",
              "      <td>109.7</td>\n",
              "    </tr>\n",
              "    <tr>\n",
              "      <th>15</th>\n",
              "      <td>Miami Heat</td>\n",
              "      <td>39.0</td>\n",
              "      <td>43.0</td>\n",
              "      <td>107.3</td>\n",
              "      <td>107.6</td>\n",
              "    </tr>\n",
              "    <tr>\n",
              "      <th>16</th>\n",
              "      <td>Detroit Pistons*</td>\n",
              "      <td>41.0</td>\n",
              "      <td>41.0</td>\n",
              "      <td>109.0</td>\n",
              "      <td>109.2</td>\n",
              "    </tr>\n",
              "    <tr>\n",
              "      <th>17</th>\n",
              "      <td>Sacramento Kings</td>\n",
              "      <td>39.0</td>\n",
              "      <td>43.0</td>\n",
              "      <td>110.4</td>\n",
              "      <td>111.5</td>\n",
              "    </tr>\n",
              "    <tr>\n",
              "      <th>18</th>\n",
              "      <td>Dallas Mavericks</td>\n",
              "      <td>33.0</td>\n",
              "      <td>49.0</td>\n",
              "      <td>109.4</td>\n",
              "      <td>110.7</td>\n",
              "    </tr>\n",
              "    <tr>\n",
              "      <th>19</th>\n",
              "      <td>Minnesota Timberwolves</td>\n",
              "      <td>36.0</td>\n",
              "      <td>46.0</td>\n",
              "      <td>111.4</td>\n",
              "      <td>112.9</td>\n",
              "    </tr>\n",
              "    <tr>\n",
              "      <th>20</th>\n",
              "      <td>New Orleans Pelicans</td>\n",
              "      <td>33.0</td>\n",
              "      <td>49.0</td>\n",
              "      <td>111.4</td>\n",
              "      <td>112.6</td>\n",
              "    </tr>\n",
              "    <tr>\n",
              "      <th>21</th>\n",
              "      <td>Charlotte Hornets</td>\n",
              "      <td>39.0</td>\n",
              "      <td>43.0</td>\n",
              "      <td>111.4</td>\n",
              "      <td>112.5</td>\n",
              "    </tr>\n",
              "    <tr>\n",
              "      <th>22</th>\n",
              "      <td>Los Angeles Lakers</td>\n",
              "      <td>37.0</td>\n",
              "      <td>45.0</td>\n",
              "      <td>107.8</td>\n",
              "      <td>109.5</td>\n",
              "    </tr>\n",
              "    <tr>\n",
              "      <th>23</th>\n",
              "      <td>Memphis Grizzlies</td>\n",
              "      <td>33.0</td>\n",
              "      <td>49.0</td>\n",
              "      <td>106.1</td>\n",
              "      <td>108.8</td>\n",
              "    </tr>\n",
              "    <tr>\n",
              "      <th>24</th>\n",
              "      <td>Washington Wizards</td>\n",
              "      <td>32.0</td>\n",
              "      <td>50.0</td>\n",
              "      <td>111.1</td>\n",
              "      <td>113.9</td>\n",
              "    </tr>\n",
              "    <tr>\n",
              "      <th>25</th>\n",
              "      <td>Atlanta Hawks</td>\n",
              "      <td>29.0</td>\n",
              "      <td>53.0</td>\n",
              "      <td>108.1</td>\n",
              "      <td>113.9</td>\n",
              "    </tr>\n",
              "    <tr>\n",
              "      <th>26</th>\n",
              "      <td>Chicago Bulls</td>\n",
              "      <td>22.0</td>\n",
              "      <td>60.0</td>\n",
              "      <td>104.8</td>\n",
              "      <td>113.2</td>\n",
              "    </tr>\n",
              "    <tr>\n",
              "      <th>27</th>\n",
              "      <td>Phoenix Suns</td>\n",
              "      <td>19.0</td>\n",
              "      <td>63.0</td>\n",
              "      <td>105.9</td>\n",
              "      <td>115.1</td>\n",
              "    </tr>\n",
              "    <tr>\n",
              "      <th>28</th>\n",
              "      <td>New York Knicks</td>\n",
              "      <td>17.0</td>\n",
              "      <td>65.0</td>\n",
              "      <td>104.5</td>\n",
              "      <td>113.7</td>\n",
              "    </tr>\n",
              "    <tr>\n",
              "      <th>29</th>\n",
              "      <td>Cleveland Cavaliers</td>\n",
              "      <td>19.0</td>\n",
              "      <td>63.0</td>\n",
              "      <td>107.7</td>\n",
              "      <td>117.6</td>\n",
              "    </tr>\n",
              "  </tbody>\n",
              "</table>\n",
              "</div>"
            ],
            "text/plain": [
              "                       Team     W     L   ORtg   DRtg\n",
              "0          Milwaukee Bucks*  60.0  22.0  113.8  105.2\n",
              "1    Golden State Warriors*  57.0  25.0  115.9  109.5\n",
              "2          Toronto Raptors*  58.0  24.0  113.1  107.1\n",
              "3                Utah Jazz*  50.0  32.0  110.9  105.7\n",
              "4          Houston Rockets*  53.0  29.0  115.5  110.7\n",
              "5   Portland Trail Blazers*  53.0  29.0  114.7  110.5\n",
              "6           Denver Nuggets*  54.0  28.0  113.0  108.9\n",
              "7           Boston Celtics*  49.0  33.0  112.2  107.8\n",
              "8    Oklahoma City Thunder*  49.0  33.0  110.3  107.0\n",
              "9           Indiana Pacers*  48.0  34.0  109.9  106.5\n",
              "10      Philadelphia 76ers*  51.0  31.0  112.6  110.0\n",
              "11       San Antonio Spurs*  48.0  34.0  112.9  111.2\n",
              "12    Los Angeles Clippers*  48.0  34.0  112.4  111.5\n",
              "13           Orlando Magic*  42.0  40.0  108.9  108.1\n",
              "14           Brooklyn Nets*  42.0  40.0  109.6  109.7\n",
              "15               Miami Heat  39.0  43.0  107.3  107.6\n",
              "16         Detroit Pistons*  41.0  41.0  109.0  109.2\n",
              "17         Sacramento Kings  39.0  43.0  110.4  111.5\n",
              "18         Dallas Mavericks  33.0  49.0  109.4  110.7\n",
              "19   Minnesota Timberwolves  36.0  46.0  111.4  112.9\n",
              "20     New Orleans Pelicans  33.0  49.0  111.4  112.6\n",
              "21        Charlotte Hornets  39.0  43.0  111.4  112.5\n",
              "22       Los Angeles Lakers  37.0  45.0  107.8  109.5\n",
              "23        Memphis Grizzlies  33.0  49.0  106.1  108.8\n",
              "24       Washington Wizards  32.0  50.0  111.1  113.9\n",
              "25            Atlanta Hawks  29.0  53.0  108.1  113.9\n",
              "26            Chicago Bulls  22.0  60.0  104.8  113.2\n",
              "27             Phoenix Suns  19.0  63.0  105.9  115.1\n",
              "28          New York Knicks  17.0  65.0  104.5  113.7\n",
              "29      Cleveland Cavaliers  19.0  63.0  107.7  117.6"
            ]
          },
          "metadata": {
            "tags": []
          },
          "execution_count": 120
        }
      ]
    },
    {
      "cell_type": "markdown",
      "metadata": {
        "id": "zhjN_a5pjvjX"
      },
      "source": [
        "#MACHINE LEARNING & PREDICTIONS"
      ]
    },
    {
      "cell_type": "markdown",
      "metadata": {
        "id": "e-dnIyVz_XPK"
      },
      "source": [
        "**Misc. Stats dataset predictions:**"
      ]
    },
    {
      "cell_type": "markdown",
      "metadata": {
        "id": "MTUdPSvipQCz"
      },
      "source": [
        "**First Approach - KNN**"
      ]
    },
    {
      "cell_type": "markdown",
      "metadata": {
        "id": "eIU8KuYHAhQE"
      },
      "source": [
        "*KNeighborsClassifier*"
      ]
    },
    {
      "cell_type": "code",
      "metadata": {
        "id": "XWDYwxK8HTWj",
        "colab": {
          "base_uri": "https://localhost:8080/"
        },
        "outputId": "27e1b7bd-506b-43fb-8566-495ff41fd5b4"
      },
      "source": [
        "# Classification : Predict whether a team wins or losses\r\n",
        "\r\n",
        "# Select predictor and target variable(s)\r\n",
        "predictors = ['ORtg','DRtg']\r\n",
        "target = 'W'\r\n",
        "X = df_misc[predictors].values\r\n",
        "y = (df_misc[target] == 'YES').values.astype(int)\r\n",
        "\r\n",
        "# Test/Train split\r\n",
        "X_train,X_test,y_train,y_test = train_test_split(X,y,test_size=0.30,random_state=0)\r\n",
        "\r\n",
        "# Confirm split\r\n",
        "print('Training Features Shape:', X_train.shape)\r\n",
        "print('Training Labels Shape:', y_train.shape)\r\n",
        "print('Testing Features Shape:', X_test.shape)\r\n",
        "print('Testing Labels Shape:', y_test.shape)"
      ],
      "execution_count": null,
      "outputs": [
        {
          "output_type": "stream",
          "text": [
            "Training Features Shape: (21, 2)\n",
            "Training Labels Shape: (21,)\n",
            "Testing Features Shape: (10, 2)\n",
            "Testing Labels Shape: (10,)\n"
          ],
          "name": "stdout"
        }
      ]
    },
    {
      "cell_type": "code",
      "metadata": {
        "id": "qUh68qqTppMi",
        "colab": {
          "base_uri": "https://localhost:8080/"
        },
        "outputId": "0290a0cc-27d2-4a89-c6cc-5ab0cb2528ad"
      },
      "source": [
        "# Scale data\r\n",
        "scaler = StandardScaler()\r\n",
        "X_train = scaler.fit_transform(X_train)\r\n",
        "X_test = scaler.transform(X_test)\r\n",
        "\r\n",
        "# View scaled data\r\n",
        "print(X_train[:10,:])"
      ],
      "execution_count": null,
      "outputs": [
        {
          "output_type": "stream",
          "text": [
            "[[ 1.30360836  0.19934887]\n",
            " [-0.65180418 -0.30456078]\n",
            " [-0.2058329  -1.15733095]\n",
            " [-0.44597128 -0.11074937]\n",
            " [ 0.06861097  1.51726642]\n",
            " [ 0.17152742  1.01335677]\n",
            " [ 1.71527416 -0.18827394]\n",
            " [-0.17152742  0.16058659]\n",
            " [ 0.72041515 -0.42084762]\n",
            " [ 1.57805222  0.27687343]]\n"
          ],
          "name": "stdout"
        }
      ]
    },
    {
      "cell_type": "markdown",
      "metadata": {
        "id": "PEH86IsLysXe"
      },
      "source": [
        "The accuarcy seems interesting, as the predicitons is seen as 100% accurate. All outcomes seem to come out as loses, but match the original test set perfectly.This could be a result from the small data set, possibly would be affected if more than one season was used to help develop more elaborate predictors."
      ]
    },
    {
      "cell_type": "code",
      "metadata": {
        "colab": {
          "base_uri": "https://localhost:8080/"
        },
        "id": "4O4-dy2rymMc",
        "outputId": "6658d80c-9e39-4328-8e59-6edb24f4e602"
      },
      "source": [
        "# Build classifier\r\n",
        "clf = KNeighborsClassifier()\r\n",
        "clf.fit(X_train,y_train)\r\n",
        "\r\n",
        "# Make predictions\r\n",
        "predictions = clf.predict(X_test)\r\n",
        "\r\n",
        "# Compare predictions with correct values\r\n",
        "print(\"Predictions:\\n\",predictions[:10],'\\n\\n')\r\n",
        "print(\"Original:\\n\",y_test[:10],'\\n\\n')\r\n",
        "\r\n",
        "# Compute accuracy\r\n",
        "accuracy = (predictions == y_test).mean()\r\n",
        "print('Accuracy: {0:.3f}'.format(accuracy),\"\\n\\n\")\r\n"
      ],
      "execution_count": null,
      "outputs": [
        {
          "output_type": "stream",
          "text": [
            "Predictions:\n",
            " [0 0 0 0 0 0 0 0 0 0] \n",
            "\n",
            "\n",
            "Original:\n",
            " [0 0 0 0 0 0 0 0 0 0] \n",
            "\n",
            "\n",
            "Accuracy: 1.000 \n",
            "\n",
            "\n"
          ],
          "name": "stdout"
        }
      ]
    },
    {
      "cell_type": "markdown",
      "metadata": {
        "id": "71zvcE7OzBZU"
      },
      "source": [
        "The same thing occurs even when changing the value of K. Unsure if this is due to our dataset or the values assinged to our test and training set."
      ]
    },
    {
      "cell_type": "code",
      "metadata": {
        "colab": {
          "base_uri": "https://localhost:8080/"
        },
        "id": "G0f0XsoAyplX",
        "outputId": "ca110b36-bf4d-4792-8a37-b74fc6832a2c"
      },
      "source": [
        "# Computer using a value of k=9 instead of the default value\r\n",
        "clf = KNeighborsClassifier(n_neighbors=9)\r\n",
        "clf.fit(X_train,y_train)\r\n",
        "predictions = clf.predict(X_test)\r\n",
        "accuracy = (predictions == y_test).mean()\r\n",
        "print('Accuracy: {0:.3f}'.format(accuracy))"
      ],
      "execution_count": null,
      "outputs": [
        {
          "output_type": "stream",
          "text": [
            "Accuracy: 1.000\n"
          ],
          "name": "stdout"
        }
      ]
    },
    {
      "cell_type": "markdown",
      "metadata": {
        "id": "XeowgYywpqLR"
      },
      "source": [
        "*KNeighborsRegressor*"
      ]
    },
    {
      "cell_type": "code",
      "metadata": {
        "id": "iFc0JHMaps7k",
        "colab": {
          "base_uri": "https://localhost:8080/"
        },
        "outputId": "7afe6d69-f9d9-4d12-e5a2-00634edfce9e"
      },
      "source": [
        "# Regression : Predict whether team wins or losses\r\n",
        "\r\n",
        "# Select predictor and target variable(s)\r\n",
        "predictors = ['ORtg','DRtg']\r\n",
        "target = 'W'\r\n",
        "X = df_misc[predictors].values\r\n",
        "y = (df_misc[target] == 'YES').values.astype(int)\r\n",
        "\r\n",
        "# Test/Train split\r\n",
        "X_train,X_test,y_train,y_test = train_test_split(X,y,test_size=0.25,random_state=42)\r\n",
        "\r\n",
        "# Confirm split\r\n",
        "print('Training Features Shape:', X_train.shape)\r\n",
        "print('Training Labels Shape:', y_train.shape)\r\n",
        "print('Testing Features Shape:', X_test.shape)\r\n",
        "print('Testing Labels Shape:', y_test.shape)"
      ],
      "execution_count": null,
      "outputs": [
        {
          "output_type": "stream",
          "text": [
            "Training Features Shape: (23, 2)\n",
            "Training Labels Shape: (23,)\n",
            "Testing Features Shape: (8, 2)\n",
            "Testing Labels Shape: (8,)\n"
          ],
          "name": "stdout"
        }
      ]
    },
    {
      "cell_type": "code",
      "metadata": {
        "colab": {
          "base_uri": "https://localhost:8080/"
        },
        "id": "ccMHnx8Z4qo-",
        "outputId": "687a64e9-89f5-4575-f31d-f19c1b49fd78"
      },
      "source": [
        "# Scale data\r\n",
        "scaler = StandardScaler()\r\n",
        "X_train = scaler.fit_transform(X_train)\r\n",
        "X_test = scaler.transform(X_test)\r\n",
        "\r\n",
        "# View scaled data\r\n",
        "print(X_train[:10,:])"
      ],
      "execution_count": null,
      "outputs": [
        {
          "output_type": "stream",
          "text": [
            "[[ 0.46812119  0.55818808]\n",
            " [ 0.94664508 -2.13786035]\n",
            " [ 1.5277098   0.21583272]\n",
            " [-0.69400825 -0.42608357]\n",
            " [ 1.25426758  0.13024389]\n",
            " [-0.72818852 -0.89682218]\n",
            " [ 0.63902258  0.42980482]\n",
            " [-1.10417158 -0.29770031]\n",
            " [ 1.66443091 -0.29770031]\n",
            " [ 0.70738314 -1.32476638]]\n"
          ],
          "name": "stdout"
        }
      ]
    },
    {
      "cell_type": "code",
      "metadata": {
        "colab": {
          "base_uri": "https://localhost:8080/"
        },
        "id": "Y7yzAQai4tqk",
        "outputId": "a3d66c38-f285-4164-ecb9-25637d605711"
      },
      "source": [
        "# Build KNN Regressor\r\n",
        "regr = KNeighborsRegressor()\r\n",
        "regr.fit(X_train,y_train)\r\n",
        "\r\n",
        "# Make predictions\r\n",
        "predictions = regr.predict(X_test)\r\n",
        "\r\n",
        "# compare first ten predictions with first ten correct values\r\n",
        "print(predictions[:10].astype(int))\r\n",
        "print(y_test[:10])"
      ],
      "execution_count": null,
      "outputs": [
        {
          "output_type": "stream",
          "text": [
            "[0 0 0 0 0 0 0 0]\n",
            "[0 0 0 0 0 0 0 0]\n"
          ],
          "name": "stdout"
        }
      ]
    },
    {
      "cell_type": "code",
      "metadata": {
        "colab": {
          "base_uri": "https://localhost:8080/"
        },
        "id": "i4hODH1B5z8T",
        "outputId": "75f623d5-a68e-4e4e-cde4-ae2325f1cb04"
      },
      "source": [
        "# compute Mean Squared Error of predictions\r\n",
        "mse = ((predictions - y_test)**2).mean()\r\n",
        "print('MSE: {0:.0f}'.format(mse))\r\n",
        "\r\n",
        "rmse = np.sqrt(((regr.predict(X_test) - y_test)**2).mean())\r\n",
        "print(\"RMSE: {:.2f}\".format(rmse))"
      ],
      "execution_count": null,
      "outputs": [
        {
          "output_type": "stream",
          "text": [
            "MSE: 0\n",
            "RMSE: 0.00\n"
          ],
          "name": "stdout"
        }
      ]
    },
    {
      "cell_type": "code",
      "metadata": {
        "colab": {
          "base_uri": "https://localhost:8080/",
          "height": 481
        },
        "id": "t6dNLL4W56ly",
        "outputId": "d630ab0b-615a-4ec6-ba33-649735f7d38c"
      },
      "source": [
        "# plot absolute prediction error as a histogram\r\n",
        "plt.figure(figsize=(8,6))\r\n",
        "sns.distplot(predictions - y_test, kde=False)\r\n",
        "plt.title('Histogram of prediction error')\r\n",
        "plt.xlabel('Absolute difference between prediction and actual value')"
      ],
      "execution_count": null,
      "outputs": [
        {
          "output_type": "stream",
          "text": [
            "/usr/local/lib/python3.7/dist-packages/seaborn/distributions.py:2557: FutureWarning: `distplot` is a deprecated function and will be removed in a future version. Please adapt your code to use either `displot` (a figure-level function with similar flexibility) or `histplot` (an axes-level function for histograms).\n",
            "  warnings.warn(msg, FutureWarning)\n"
          ],
          "name": "stderr"
        },
        {
          "output_type": "execute_result",
          "data": {
            "text/plain": [
              "Text(0.5, 0, 'Absolute difference between prediction and actual value')"
            ]
          },
          "metadata": {
            "tags": []
          },
          "execution_count": 191
        },
        {
          "output_type": "display_data",
          "data": {
            "image/png": "[encoded data removed]",
            "text/plain": [
              "<Figure size 576x432 with 1 Axes>"
            ]
          },
          "metadata": {
            "tags": []
          }
        }
      ]
    },
    {
      "cell_type": "markdown",
      "metadata": {
        "id": "v1fLJIhXptKz"
      },
      "source": [
        "*Anamoly Detection*"
      ]
    },
    {
      "cell_type": "code",
      "metadata": {
        "id": "2vz_iIpvqD8G"
      },
      "source": [
        "# compute distance between two n-dimensional point\r\n",
        "def edist(x,y):    \r\n",
        "  return np.sqrt(np.sum((x-y)**2))\r\n",
        "\r\n",
        "# return a distance matrix based on columns of float matrix x\r\n",
        "def dist(x):    \r\n",
        "  m = x.shape[0]    \r\n",
        "  dm = np.zeros((m,m))    \r\n",
        "  for i in range(m):        \r\n",
        "    for j in range(i,m):            \r\n",
        "      dm[i,j] = edist(x[i,:], x[j,:])            \r\n",
        "      dm[j,i] = dm[i,j]    \r\n",
        "  return dm\r\n",
        "\r\n",
        "# return indexes of anomalous elements of data frame df\r\n",
        "def knn_anomalies(df_misc, k=3, threshold=3):\r\n",
        "  # scale the data and compute distance matrix    \r\n",
        "  x = df_misc.apply(zscore).values    \r\n",
        "  dm = dist(x)\r\n",
        "\r\n",
        "  sorted_distances = np.apply_along_axis(np.sort, 1, dm)\r\n",
        "  dist_to_k_nearest = sorted_distances[:,k]\r\n",
        "\r\n",
        "  dist_std = np.std(dist_to_k_nearest)\r\n",
        "  dist_mean = np.mean(dist_to_k_nearest)\r\n",
        "  dist_scaled = (dist_to_k_nearest - dist_mean)/dist_std\r\n",
        "\r\n",
        "  anomaly_indexes = np.where(dist_scaled > threshold)    \r\n",
        "  return anomaly_indexes"
      ],
      "execution_count": null,
      "outputs": []
    },
    {
      "cell_type": "code",
      "metadata": {
        "id": "UxPWAgFR7AU9"
      },
      "source": [
        "features = ['ORtg','DRtg']\r\n",
        "anoms = knn_anomalies(df_misc[features],k=7,threshold=6)\r\n",
        "\r\n",
        "# add new 'Anomaly' column\r\n",
        "x = np.full(len(df_misc), False)\r\n",
        "x[anoms] = True\r\n",
        "df_misc['Anomaly'] = x"
      ],
      "execution_count": null,
      "outputs": []
    },
    {
      "cell_type": "code",
      "metadata": {
        "colab": {
          "base_uri": "https://localhost:8080/",
          "height": 462
        },
        "id": "WvuCk1sT7lBs",
        "outputId": "fe6c4bcf-49b1-4580-c7c1-8b8eb79595d2"
      },
      "source": [
        "# plot showing anomalies\r\n",
        "sns.scatterplot('ORtg', 'DRtg', data=df_misc, hue='Anomaly', style='W')\r\n",
        "plt.legend(bbox_to_anchor=(1.05, 1), loc='upper left', borderaxespad=0.)"
      ],
      "execution_count": null,
      "outputs": [
        {
          "output_type": "stream",
          "text": [
            "/usr/local/lib/python3.7/dist-packages/seaborn/_decorators.py:43: FutureWarning: Pass the following variables as keyword args: x, y. From version 0.12, the only valid positional argument will be `data`, and passing other arguments without an explicit keyword will result in an error or misinterpretation.\n",
            "  FutureWarning\n"
          ],
          "name": "stderr"
        },
        {
          "output_type": "execute_result",
          "data": {
            "text/plain": [
              "<matplotlib.legend.Legend at 0x7f715495e590>"
            ]
          },
          "metadata": {
            "tags": []
          },
          "execution_count": 205
        },
        {
          "output_type": "display_data",
          "data": {
            "image/png": "[encoded data removed]",
            "text/plain": [
              "<Figure size 432x288 with 1 Axes>"
            ]
          },
          "metadata": {
            "tags": []
          }
        }
      ]
    },
    {
      "cell_type": "markdown",
      "metadata": {
        "id": "qCMRJCujlIUS"
      },
      "source": [
        "\r\n",
        "This data anamoly shows the inconsistencies and possible redundancies with our dataset."
      ]
    },
    {
      "cell_type": "markdown",
      "metadata": {
        "id": "6f4LZUO6qEKN"
      },
      "source": [
        "**Second Approach - LinearRegression**\r\n"
      ]
    },
    {
      "cell_type": "code",
      "metadata": {
        "id": "LZmjRy1XqElO",
        "colab": {
          "base_uri": "https://localhost:8080/"
        },
        "outputId": "d1241eb9-c2f2-49ac-c295-3515e9577bb1"
      },
      "source": [
        "# Build linear model with offensive rating as the single predictor variable, and team wins as the target variable.\r\n",
        "X = df_misc[['ORtg']].values\r\n",
        "y = (df_misc['W'] == 'YES').values.astype(int)\r\n",
        "\r\n",
        "reg = LinearRegression()\r\n",
        "reg.fit(X,y)"
      ],
      "execution_count": null,
      "outputs": [
        {
          "output_type": "execute_result",
          "data": {
            "text/plain": [
              "LinearRegression(copy_X=True, fit_intercept=True, n_jobs=None, normalize=False)"
            ]
          },
          "metadata": {
            "tags": []
          },
          "execution_count": 217
        }
      ]
    },
    {
      "cell_type": "markdown",
      "metadata": {
        "id": "hk5ZAylp_K5T"
      },
      "source": [
        "Scatterplot used with one predictor."
      ]
    },
    {
      "cell_type": "code",
      "metadata": {
        "colab": {
          "base_uri": "https://localhost:8080/",
          "height": 301
        },
        "id": "YiZEIhLh-ddb",
        "outputId": "3bbf7c30-98ea-4950-9973-e293c0c6b4d6"
      },
      "source": [
        "# Create scatterpplot\r\n",
        "scatter = sns.scatterplot(data=df_misc, x=\"ORtg\", y=\"W\")\r\n",
        "predictions = reg.predict(X)\r\n",
        "plt.title(\"Linear model of Wins using Offesive rating\")\r\n",
        "plt.plot(X, predictions)\r\n",
        "plt.show(scatter)"
      ],
      "execution_count": null,
      "outputs": [
        {
          "output_type": "display_data",
          "data": {
            "image/png": "[encoded data removed]",
            "text/plain": [
              "<Figure size 432x288 with 1 Axes>"
            ]
          },
          "metadata": {
            "tags": []
          }
        }
      ]
    },
    {
      "cell_type": "markdown",
      "metadata": {
        "id": "xPFuXccvB-Yf"
      },
      "source": [
        "Could not conclude the linear model appeared as a flat straight line rather than fitting to the scatterplot. This could be due to the predictor, and also could be due to amount of data in the dataset.\r\n",
        "\r\n",
        "Expection was for the Offensive rating predictor to have a direct correlation on the results of wins and losses."
      ]
    },
    {
      "cell_type": "markdown",
      "metadata": {
        "id": "ObBF9RGY_Bbi"
      },
      "source": [
        "Coefficients of the model"
      ]
    },
    {
      "cell_type": "code",
      "metadata": {
        "colab": {
          "base_uri": "https://localhost:8080/"
        },
        "id": "NLUT1Fss_Bzg",
        "outputId": "117691d7-e590-46e9-e120-6da85ec19c37"
      },
      "source": [
        "print(\"Intercept: {:.2f}\".format(reg.intercept_))\r\n",
        "print(\"Coefficient of mileage: {:.2f}\".format(reg.coef_[0]))\r\n",
        "print(\"R-squared value: {:.2f}\".format(reg.score(X,y)))"
      ],
      "execution_count": null,
      "outputs": [
        {
          "output_type": "stream",
          "text": [
            "Intercept: 0.00\n",
            "Coefficient of mileage: -0.00\n",
            "R-squared value: 1.00\n"
          ],
          "name": "stdout"
        }
      ]
    },
    {
      "cell_type": "markdown",
      "metadata": {
        "id": "i6TCStZaDNbs"
      },
      "source": [
        "Now let add in the Defensive team rating and see how it affect our predictions outcome."
      ]
    },
    {
      "cell_type": "code",
      "metadata": {
        "colab": {
          "base_uri": "https://localhost:8080/"
        },
        "id": "7TQCq1ZPCe0C",
        "outputId": "b83977a3-febe-4663-e912-fe532d29fa48"
      },
      "source": [
        "X = df_misc[['ORtg','DRtg']].values\r\n",
        "y = (df_misc['W'] == 'YES').values.astype(int)\r\n",
        "\r\n",
        "reg2 = LinearRegression()\r\n",
        "reg2.fit(X,y)"
      ],
      "execution_count": null,
      "outputs": [
        {
          "output_type": "execute_result",
          "data": {
            "text/plain": [
              "LinearRegression(copy_X=True, fit_intercept=True, n_jobs=None, normalize=False)"
            ]
          },
          "metadata": {
            "tags": []
          },
          "execution_count": 219
        }
      ]
    },
    {
      "cell_type": "code",
      "metadata": {
        "colab": {
          "base_uri": "https://localhost:8080/"
        },
        "id": "PNxOUqYiCo7j",
        "outputId": "febed132-0ce6-4432-f622-4169c6a3cca5"
      },
      "source": [
        "print(\"Intercept: {:.2f}\".format(reg2.intercept_))\r\n",
        "print(\"Coefficient of Offensive rating: {:.2f}\".format(reg2.coef_[0]))\r\n",
        "print(\"Coefficient of Defensive rating: {:.2f}\".format(reg2.coef_[1]))"
      ],
      "execution_count": null,
      "outputs": [
        {
          "output_type": "stream",
          "text": [
            "Intercept: 0.00\n",
            "Coefficient of Offensive rating: 0.00\n",
            "Coefficient of Defensive rating: 0.00\n"
          ],
          "name": "stdout"
        }
      ]
    },
    {
      "cell_type": "markdown",
      "metadata": {
        "id": "Wj88vHvCkGTr"
      },
      "source": [
        "It is strange that we are not getting values for our coefficients, this could be due to our test/train sets. This will be tested to determine the reason for these results."
      ]
    },
    {
      "cell_type": "code",
      "metadata": {
        "colab": {
          "base_uri": "https://localhost:8080/"
        },
        "id": "9K8ONsNRDeKX",
        "outputId": "8643e600-0170-4582-8f4b-72f5ee0395a4"
      },
      "source": [
        "games = [1000,1]\r\n",
        "est = reg2.predict([games])\r\n",
        "print(\"Predicted wins: {:.2f}\".format(est[0]))"
      ],
      "execution_count": null,
      "outputs": [
        {
          "output_type": "stream",
          "text": [
            "Predicted wins: 0.00\n"
          ],
          "name": "stdout"
        }
      ]
    },
    {
      "cell_type": "code",
      "metadata": {
        "id": "TyBJmq4EDwGp"
      },
      "source": [
        "def plot_actual_predicted(actual, predicted, title):\r\n",
        "    # YOUR CODE HERE\r\n",
        "    scatter = sns.scatterplot(x=actual, y=predicted)\r\n",
        "    plt.xlabel(\"Actual\")\r\n",
        "    plt.ylabel(\"Predicted\")\r\n",
        "    plt.title(title)\r\n",
        "    p1 = [predicted.min(), predicted.max()]\r\n",
        "    p2 = [predicted.min(), predicted.max()]\r\n",
        "    plt.plot(p1, p2, color=\"black\", linestyle=\"dashed\", linewidth=2)\r\n",
        "    plt.show(scatter)"
      ],
      "execution_count": null,
      "outputs": []
    },
    {
      "cell_type": "code",
      "metadata": {
        "colab": {
          "base_uri": "https://localhost:8080/",
          "height": 301
        },
        "id": "tMhd5rPVDzGL",
        "outputId": "e66d14b6-7a80-4c40-e39d-b3dcfedf3d84"
      },
      "source": [
        "# plot predicted vs. actual for our linear model\r\n",
        "plot_actual_predicted(y, reg2.predict(X), 'Predicted by actual')"
      ],
      "execution_count": null,
      "outputs": [
        {
          "output_type": "display_data",
          "data": {
            "image/png": "[encoded data removed]",
            "text/plain": [
              "<Figure size 432x288 with 1 Axes>"
            ]
          },
          "metadata": {
            "tags": []
          }
        }
      ]
    },
    {
      "cell_type": "markdown",
      "metadata": {
        "id": "HiLSY894D6tp"
      },
      "source": [
        "**Conclusion for Misc Stats Dataset**\r\n",
        "\r\n",
        "It is safe to conclude that this dataset may not provide enough data to accuratly predict wins and losses. The amount of data should have a direct affect on these outcomes, but for now they are not producing the expected predictions. This could also be the way the predictor values are being interpreted, as I was hoping to show that either defensive or offensive rating has a direct effect on the outcome of a game."
      ]
    },
    {
      "cell_type": "markdown",
      "metadata": {
        "id": "eNlJU_sVtahS"
      },
      "source": [
        "**Wins & Losses dataset predictions:**"
      ]
    },
    {
      "cell_type": "markdown",
      "metadata": {
        "id": "_ctenUybAGRU"
      },
      "source": [
        "***First Approach - KNN***"
      ]
    },
    {
      "cell_type": "markdown",
      "metadata": {
        "id": "0LtoHIykAuMk"
      },
      "source": [
        "*KNeighborsClassifier*"
      ]
    },
    {
      "cell_type": "code",
      "metadata": {
        "colab": {
          "base_uri": "https://localhost:8080/"
        },
        "id": "OQO_mxWMtay8",
        "outputId": "8e27641f-c882-4fd2-daef-aac05817ea5c"
      },
      "source": [
        "# Classification : Predict whether a team wins or losses\r\n",
        "\r\n",
        "# Select predictor and target variable(s)\r\n",
        "predictors = ['H_PTS','V_PTS']\r\n",
        "target = 'HomeWin'\r\n",
        "X = df_win_lose[predictors].values\r\n",
        "y = (df_win_lose[target] == 'True').values.astype(int)\r\n",
        "\r\n",
        "# Test/Train split\r\n",
        "X_train,X_test,y_train,y_test = train_test_split(X,y,test_size=0.30,random_state=0)\r\n",
        "\r\n",
        "# Confirm split\r\n",
        "print('Training Features Shape:', X_train.shape)\r\n",
        "print('Training Labels Shape:', y_train.shape)\r\n",
        "print('Testing Features Shape:', X_test.shape)\r\n",
        "print('Testing Labels Shape:', y_test.shape)"
      ],
      "execution_count": null,
      "outputs": [
        {
          "output_type": "stream",
          "text": [
            "Training Features Shape: (918, 2)\n",
            "Training Labels Shape: (918,)\n",
            "Testing Features Shape: (394, 2)\n",
            "Testing Labels Shape: (394,)\n"
          ],
          "name": "stdout"
        }
      ]
    },
    {
      "cell_type": "code",
      "metadata": {
        "colab": {
          "base_uri": "https://localhost:8080/"
        },
        "id": "8gl0cY4fFljA",
        "outputId": "622ac675-a5e3-450f-a917-a7773d129229"
      },
      "source": [
        "# Scale data\r\n",
        "scaler = StandardScaler()\r\n",
        "X_train = scaler.fit_transform(X_train)\r\n",
        "X_test = scaler.transform(X_test)\r\n",
        "\r\n",
        "# View scaled data\r\n",
        "print(X_train[:10,:])"
      ],
      "execution_count": null,
      "outputs": [
        {
          "output_type": "stream",
          "text": [
            "[[-0.74340546  2.05758058]\n",
            " [-0.42620991 -0.03935936]\n",
            " [-0.18831326 -0.68457164]\n",
            " [-1.69499208 -0.44261703]\n",
            " [-0.74340546 -0.28131396]\n",
            " [ 0.0495834   1.08976215]\n",
            " [ 0.6046756   1.08976215]\n",
            " [ 0.0495834   0.767156  ]\n",
            " [-1.29849766 -1.89434468]\n",
            " [ 0.52537671 -0.52326857]]\n"
          ],
          "name": "stdout"
        }
      ]
    },
    {
      "cell_type": "code",
      "metadata": {
        "colab": {
          "base_uri": "https://localhost:8080/"
        },
        "id": "qoiQEdLgF43j",
        "outputId": "f68b0093-579c-40aa-804a-7d53db7f41e6"
      },
      "source": [
        "# Build classifier\r\n",
        "clf = KNeighborsClassifier()\r\n",
        "clf.fit(X_train,y_train)\r\n",
        "\r\n",
        "# Make predictions\r\n",
        "predictions = clf.predict(X_test)\r\n",
        "\r\n",
        "# Compare predictions with correct values\r\n",
        "print(\"Predictions:\\n\",predictions[:10],'\\n\\n')\r\n",
        "print(\"Original:\\n\",y_test[:10],'\\n\\n')\r\n",
        "\r\n",
        "# Compute accuracy\r\n",
        "accuracy = (predictions == y_test).mean()\r\n",
        "print('Accuracy: {0:.3f}'.format(accuracy),\"\\n\\n\")"
      ],
      "execution_count": null,
      "outputs": [
        {
          "output_type": "stream",
          "text": [
            "Predictions:\n",
            " [0 0 0 0 0 0 0 0 0 0] \n",
            "\n",
            "\n",
            "Original:\n",
            " [0 0 0 0 0 0 0 0 0 0] \n",
            "\n",
            "\n",
            "Accuracy: 1.000 \n",
            "\n",
            "\n"
          ],
          "name": "stdout"
        }
      ]
    },
    {
      "cell_type": "code",
      "metadata": {
        "colab": {
          "base_uri": "https://localhost:8080/"
        },
        "id": "2_vBZLdvGOQq",
        "outputId": "ae02f492-bbcd-47fd-e862-e5f36cceb996"
      },
      "source": [
        "# Computer using a value of k=9 instead of the default value\r\n",
        "clf = KNeighborsClassifier(n_neighbors=9)\r\n",
        "clf.fit(X_train,y_train)\r\n",
        "predictions = clf.predict(X_test)\r\n",
        "accuracy = (predictions == y_test).mean()\r\n",
        "print('Accuracy: {0:.3f}'.format(accuracy))"
      ],
      "execution_count": null,
      "outputs": [
        {
          "output_type": "stream",
          "text": [
            "Accuracy: 1.000\n"
          ],
          "name": "stdout"
        }
      ]
    },
    {
      "cell_type": "markdown",
      "metadata": {
        "id": "oF3EpP5qAMyM"
      },
      "source": [
        "*KNeighborsRegressor*"
      ]
    },
    {
      "cell_type": "code",
      "metadata": {
        "colab": {
          "base_uri": "https://localhost:8080/"
        },
        "id": "oqK5Qsv4BQIX",
        "outputId": "13d5c2d9-84d1-4a91-8b2c-57669281202b"
      },
      "source": [
        "# Regression : Predict whether team wins or losses\r\n",
        "\r\n",
        "# Select predictor and target variable(s)\r\n",
        "predictors = ['H_PTS','V_PTS']\r\n",
        "target = 'HomeWin'\r\n",
        "X = df_win_lose[predictors].values\r\n",
        "y = (df_win_lose[target] == 'YES').values.astype(int)\r\n",
        "\r\n",
        "# Test/Train split\r\n",
        "X_train,X_test,y_train,y_test = train_test_split(X,y,test_size=0.25,random_state=42)\r\n",
        "\r\n",
        "# Confirm split\r\n",
        "print('Training Features Shape:', X_train.shape)\r\n",
        "print('Training Labels Shape:', y_train.shape)\r\n",
        "print('Testing Features Shape:', X_test.shape)\r\n",
        "print('Testing Labels Shape:', y_test.shape)"
      ],
      "execution_count": null,
      "outputs": [
        {
          "output_type": "stream",
          "text": [
            "Training Features Shape: (984, 2)\n",
            "Training Labels Shape: (984,)\n",
            "Testing Features Shape: (328, 2)\n",
            "Testing Labels Shape: (328,)\n"
          ],
          "name": "stdout"
        }
      ]
    },
    {
      "cell_type": "code",
      "metadata": {
        "colab": {
          "base_uri": "https://localhost:8080/"
        },
        "id": "VNEZ47S6HG0d",
        "outputId": "727992f5-58d7-47de-f448-3d408760b865"
      },
      "source": [
        "# Scale data\r\n",
        "scaler = StandardScaler()\r\n",
        "X_train = scaler.fit_transform(X_train)\r\n",
        "X_test = scaler.transform(X_test)\r\n",
        "\r\n",
        "# View scaled data\r\n",
        "print(X_train[:10,:])"
      ],
      "execution_count": null,
      "outputs": [
        {
          "output_type": "stream",
          "text": [
            "[[ 0.03271681  1.07482867]\n",
            " [ 0.67179067  0.75377489]\n",
            " [-0.60635704 -0.53044022]\n",
            " [-1.56496783 -2.77781667]\n",
            " [-1.0057782  -0.851494  ]\n",
            " [ 0.43213798  0.19193078]\n",
            " [-0.12705165 -0.61070367]\n",
            " [ 0.9913276   0.43272111]\n",
            " [-0.68624128 -0.129123  ]\n",
            " [ 0.35225374  0.11166733]]\n"
          ],
          "name": "stdout"
        }
      ]
    },
    {
      "cell_type": "code",
      "metadata": {
        "colab": {
          "base_uri": "https://localhost:8080/"
        },
        "id": "35-Qy9ceHLoJ",
        "outputId": "47622cee-1666-4dae-e461-1e56bd452f92"
      },
      "source": [
        "# Build KNN Regressor\r\n",
        "regr = KNeighborsRegressor()\r\n",
        "regr.fit(X_train,y_train)\r\n",
        "\r\n",
        "# Make predictions\r\n",
        "predictions = regr.predict(X_test)\r\n",
        "\r\n",
        "# compare first ten predictions with first ten correct values\r\n",
        "print(predictions[:10].astype(int))\r\n",
        "print(y_test[:10])"
      ],
      "execution_count": null,
      "outputs": [
        {
          "output_type": "stream",
          "text": [
            "[0 0 0 0 0 0 0 0 0 0]\n",
            "[0 0 0 0 0 0 0 0 0 0]\n"
          ],
          "name": "stdout"
        }
      ]
    },
    {
      "cell_type": "code",
      "metadata": {
        "colab": {
          "base_uri": "https://localhost:8080/"
        },
        "id": "FjVC215bHRFo",
        "outputId": "06360246-36e9-42d1-a6c7-4ab77711fa1e"
      },
      "source": [
        "# compute Mean Squared Error of predictions\r\n",
        "mse = ((predictions - y_test)**2).mean()\r\n",
        "print('MSE: {0:.0f}'.format(mse))\r\n",
        "rmse = np.sqrt(((regr.predict(X_test) - y_test)**2).mean())\r\n",
        "print(\"RMSE: {:.2f}\".format(rmse))"
      ],
      "execution_count": null,
      "outputs": [
        {
          "output_type": "stream",
          "text": [
            "MSE: 0\n",
            "RMSE: 0.00\n"
          ],
          "name": "stdout"
        }
      ]
    },
    {
      "cell_type": "code",
      "metadata": {
        "colab": {
          "base_uri": "https://localhost:8080/",
          "height": 481
        },
        "id": "SgIlEAJlHo2-",
        "outputId": "8520eb6d-6dbe-4d55-9679-7e9b9dfa2a84"
      },
      "source": [
        "# plot absolute prediction error as a histogram\r\n",
        "plt.figure(figsize=(8,6))\r\n",
        "sns.distplot(predictions - y_test, kde=False)\r\n",
        "plt.title('Histogram of prediction error')\r\n",
        "plt.xlabel('Absolute difference between prediction and actual value')"
      ],
      "execution_count": null,
      "outputs": [
        {
          "output_type": "stream",
          "text": [
            "/usr/local/lib/python3.7/dist-packages/seaborn/distributions.py:2557: FutureWarning: `distplot` is a deprecated function and will be removed in a future version. Please adapt your code to use either `displot` (a figure-level function with similar flexibility) or `histplot` (an axes-level function for histograms).\n",
            "  warnings.warn(msg, FutureWarning)\n"
          ],
          "name": "stderr"
        },
        {
          "output_type": "execute_result",
          "data": {
            "text/plain": [
              "Text(0.5, 0, 'Absolute difference between prediction and actual value')"
            ]
          },
          "metadata": {
            "tags": []
          },
          "execution_count": 248
        },
        {
          "output_type": "display_data",
          "data": {
            "image/png": "[encoded data removed]",
            "text/plain": [
              "<Figure size 576x432 with 1 Axes>"
            ]
          },
          "metadata": {
            "tags": []
          }
        }
      ]
    },
    {
      "cell_type": "markdown",
      "metadata": {
        "id": "iiTTQ9YAANPA"
      },
      "source": [
        "*Anamoly Detection*"
      ]
    },
    {
      "cell_type": "code",
      "metadata": {
        "id": "QCTJZ8pYBQe5"
      },
      "source": [
        "# compute distance between two n-dimensional point\r\n",
        "def edist(x,y):    \r\n",
        "  return np.sqrt(np.sum((x-y)**2))\r\n",
        "\r\n",
        "# return a distance matrix based on columns of float matrix x\r\n",
        "def dist(x):    \r\n",
        "  m = x.shape[0]    \r\n",
        "  dm = np.zeros((m,m))    \r\n",
        "  for i in range(m):        \r\n",
        "    for j in range(i,m):            \r\n",
        "      dm[i,j] = edist(x[i,:], x[j,:])            \r\n",
        "      dm[j,i] = dm[i,j]    \r\n",
        "  return dm\r\n",
        "\r\n",
        "# return indexes of anomalous elements of data frame df\r\n",
        "def knn_anomalies(df_win_lose, k=3, threshold=3):\r\n",
        "  # scale the data and compute distance matrix    \r\n",
        "  x = df_win_lose.apply(zscore).values    \r\n",
        "  dm = dist(x)\r\n",
        "\r\n",
        "  sorted_distances = np.apply_along_axis(np.sort, 1, dm)\r\n",
        "  dist_to_k_nearest = sorted_distances[:,k]\r\n",
        "\r\n",
        "  dist_std = np.std(dist_to_k_nearest)\r\n",
        "  dist_mean = np.mean(dist_to_k_nearest)\r\n",
        "  dist_scaled = (dist_to_k_nearest - dist_mean)/dist_std\r\n",
        "\r\n",
        "  anomaly_indexes = np.where(dist_scaled > threshold)    \r\n",
        "  return anomaly_indexes"
      ],
      "execution_count": null,
      "outputs": []
    },
    {
      "cell_type": "code",
      "metadata": {
        "id": "J3aWEUB6H6Ik"
      },
      "source": [
        "features = ['H_PTS','V_PTS']\r\n",
        "anoms = knn_anomalies(df_win_lose[features],k=7,threshold=6)\r\n",
        "\r\n",
        "# add new 'Anomaly' column\r\n",
        "x = np.full(len(df_win_lose), False)\r\n",
        "x[anoms] = True\r\n",
        "df_win_lose['Anomaly'] = x"
      ],
      "execution_count": null,
      "outputs": []
    },
    {
      "cell_type": "code",
      "metadata": {
        "colab": {
          "base_uri": "https://localhost:8080/",
          "height": 356
        },
        "id": "OgtoueENITSN",
        "outputId": "ac3f489e-c4e0-4dbe-c7f7-e8b744d447a1"
      },
      "source": [
        "# plot the colleges, showing anomalies\r\n",
        "sns.scatterplot('H_PTS', 'V_PTS', data=df_win_lose, hue='Anomaly', style='HomeWin')\r\n",
        "plt.legend(bbox_to_anchor=(1.05, 1), loc='upper left', borderaxespad=0.)"
      ],
      "execution_count": null,
      "outputs": [
        {
          "output_type": "stream",
          "text": [
            "/usr/local/lib/python3.7/dist-packages/seaborn/_decorators.py:43: FutureWarning: Pass the following variables as keyword args: x, y. From version 0.12, the only valid positional argument will be `data`, and passing other arguments without an explicit keyword will result in an error or misinterpretation.\n",
            "  FutureWarning\n"
          ],
          "name": "stderr"
        },
        {
          "output_type": "execute_result",
          "data": {
            "text/plain": [
              "<matplotlib.legend.Legend at 0x7f7154481610>"
            ]
          },
          "metadata": {
            "tags": []
          },
          "execution_count": 255
        },
        {
          "output_type": "display_data",
          "data": {
            "image/png": "[encoded data removed]",
            "text/plain": [
              "<Figure size 432x288 with 1 Axes>"
            ]
          },
          "metadata": {
            "tags": []
          }
        }
      ]
    },
    {
      "cell_type": "markdown",
      "metadata": {
        "id": "xxIpGsY4kW-_"
      },
      "source": [
        "This data anamoly shows the inconsistencies and possible redundancies with our dataset. "
      ]
    },
    {
      "cell_type": "markdown",
      "metadata": {
        "id": "7jAVjWT9A90S"
      },
      "source": [
        "**Second Approach - LinearRegression**"
      ]
    },
    {
      "cell_type": "code",
      "metadata": {
        "colab": {
          "base_uri": "https://localhost:8080/",
          "height": 301
        },
        "id": "NbTnaFkUBN6-",
        "outputId": "7dc921ee-c1cf-4dee-d3a3-520cc1bcc976"
      },
      "source": [
        "X = df_win_lose[['H_PTS']].values\r\n",
        "y = (df_win_lose['HomeWin'] == 'YES').values.astype(int)\r\n",
        "\r\n",
        "reg = LinearRegression()\r\n",
        "reg.fit(X,y)\r\n",
        "\r\n",
        "scatter = sns.scatterplot(data=df_win_lose, x=\"H_PTS\", y=\"HomeWin\")\r\n",
        "predictions = reg.predict(X)\r\n",
        "plt.title(\"Linear model of Home Wins using home points scored\")\r\n",
        "plt.plot(X, predictions)\r\n",
        "plt.show(scatter)"
      ],
      "execution_count": null,
      "outputs": [
        {
          "output_type": "display_data",
          "data": {
            "image/png": "[encoded data removed]",
            "text/plain": [
              "<Figure size 432x288 with 1 Axes>"
            ]
          },
          "metadata": {
            "tags": []
          }
        }
      ]
    },
    {
      "cell_type": "markdown",
      "metadata": {
        "id": "2JhRI18Ulr_m"
      },
      "source": [
        "Here we can see the linear model goes through our dataset, but cannot help feel like this is not the best variables to display this type of regression. The model has all the datapoints related to losses."
      ]
    },
    {
      "cell_type": "code",
      "metadata": {
        "colab": {
          "base_uri": "https://localhost:8080/"
        },
        "id": "toIAffRUJt8T",
        "outputId": "e443dfc7-c05a-4262-f7b9-802a02a3483a"
      },
      "source": [
        "print(\"Intercept: {:.2f}\".format(reg.intercept_))\r\n",
        "print(\"Coefficient of mileage: {:.2f}\".format(reg.coef_[0]))\r\n",
        "print(\"R-squared value: {:.2f}\".format(reg.score(X,y)))"
      ],
      "execution_count": null,
      "outputs": [
        {
          "output_type": "stream",
          "text": [
            "Intercept: 0.00\n",
            "Coefficient of mileage: 0.00\n",
            "R-squared value: 1.00\n"
          ],
          "name": "stdout"
        }
      ]
    },
    {
      "cell_type": "code",
      "metadata": {
        "colab": {
          "base_uri": "https://localhost:8080/"
        },
        "id": "Ce8AlTCEJ6xv",
        "outputId": "53e2056f-abe8-4341-f4ee-88e5c885bddb"
      },
      "source": [
        "X = df_win_lose[['H_PTS','V_PTS']].values\r\n",
        "y = (df_win_lose['HomeWin'] == 'YES').values.astype(int)\r\n",
        "\r\n",
        "reg2 = LinearRegression()\r\n",
        "reg2.fit(X,y)\r\n",
        "\r\n",
        "print(\"Intercept: {:.2f}\".format(reg2.intercept_))\r\n",
        "print(\"Coefficient of Offensive rating: {:.2f}\".format(reg2.coef_[0]))\r\n",
        "print(\"Coefficient of Defensive rating: {:.2f}\".format(reg2.coef_[1]))"
      ],
      "execution_count": null,
      "outputs": [
        {
          "output_type": "stream",
          "text": [
            "Intercept: 0.00\n",
            "Coefficient of Offensive rating: 0.00\n",
            "Coefficient of Defensive rating: 0.00\n"
          ],
          "name": "stdout"
        }
      ]
    },
    {
      "cell_type": "markdown",
      "metadata": {
        "id": "03to4YvlkU37"
      },
      "source": [
        "It is strange that we are not getting values for our coefficients, this could be due to our test/train sets. This will be tested to determine the reason for these results."
      ]
    },
    {
      "cell_type": "code",
      "metadata": {
        "colab": {
          "base_uri": "https://localhost:8080/"
        },
        "id": "DL5Ko4bnKOZ0",
        "outputId": "bdbf18a8-5f08-41b2-ebef-b741959f990a"
      },
      "source": [
        "games = [1000,1]\r\n",
        "est = reg2.predict([games])\r\n",
        "print(\"Predicted wins: {:.2f}\".format(est[0]))"
      ],
      "execution_count": null,
      "outputs": [
        {
          "output_type": "stream",
          "text": [
            "Predicted wins: 0.00\n"
          ],
          "name": "stdout"
        }
      ]
    },
    {
      "cell_type": "markdown",
      "metadata": {
        "id": "dtmEjyW3OOrv"
      },
      "source": [
        "**Conclusion for Wins & Losses Dataset**\r\n",
        "\r\n",
        "It is safe to conclude that this dataset may not provide enough data to accuratly predict wins and losses. The amount of data should have a direct affect on these outcomes, but for now they are not producing the expected predictions. This could also be the way the predictor values are being interpreted, as I was hoping to show that either previous team wins have an affect on the outcome of the next games' outcome."
      ]
    },
    {
      "cell_type": "markdown",
      "metadata": {
        "id": "qg9kOAprO8cE"
      },
      "source": [
        "# Summary\r\n"
      ]
    },
    {
      "cell_type": "markdown",
      "metadata": {
        "id": "II550KkRQwWs"
      },
      "source": [
        "Overall this was a semi-succesful look into whether certain dataset features could have an affect on the outcome of a game between two teams.\r\n",
        "\r\n",
        "\r\n",
        "During the data exploration and visulization, we were able to determine represent the relationships we were looking to test. In regards to the Misc. Stats dataset, we were able to see how good offensive and defensive rating would result in a better win/loss record. With more time permitted, an intriguing feature that would have been interesting to explore if it affected wins/losses was whether the amount possessions a team had resulted in more wins. Next was the wins & losses dataset, where we wanted to correlate whether the Home team won if they scored more points. The relation should this to be true but there were still a few interesting outliers, where the home team scored a lot but still ended up losing. The feature we would want to test next, is whether a previous win would result in better chances to win the next game. Overall the data exploration and visualization yield promising results.\r\n",
        "\r\n",
        "\r\n",
        "The machine learning/prediciton is where the datasets came into question. There was 100% accuracy for both dataset when it came to predicting. Not to think that this is not possible, but it did not predict any team wins in the end results. This could be attributed to a wide varity of things such as dataset size, predictor values, also the training and test sets could be a reason. This was the most confusing part, as there were anomolies that were able to be accounted for but we could not determine the reason for such a high accuracy when predicting.\r\n",
        "\r\n",
        "Overall the report yield desired results, but maybe with more precise predictors/variables we would produce better predictions. For future work on these datasets, we would hope to provide better predictions and hopefully implement individual player efficiency datasets and determine whether a single player can have a overwhelming influence on the outcome of a game."
      ]
    }
  ]
}